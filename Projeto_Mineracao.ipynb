{
  "nbformat": 4,
  "nbformat_minor": 0,
  "metadata": {
    "colab": {
      "provenance": [],
      "collapsed_sections": [
        "pOK92Yxj2Wwr",
        "KVKUw4ysjiMA",
        "PglzxiJdNfrL",
        "SoH-7g1ONjnu",
        "5KZKaYdrdKEM",
        "2kUz2E--Zgk-",
        "PF9QnErsWc84",
        "sMiqXObvuPUG",
        "qmP-m2HuPvmU",
        "LEwBfH7lZEc1",
        "SPHZ9ELrdEpq",
        "BsBq8kRKQRb3",
        "5QsvW9KwavkE",
        "tqxApanE0vfN",
        "HqXac9DD1ViJ",
        "gqY8Fx5gBs-O",
        "P4SjbOStz4Ap",
        "ugE7D8i0bTMY",
        "SFPCmeZBD1Mc",
        "Cv_twh7UEAzc",
        "qq-PsTxcEMCK",
        "GDvx-J5zETUw",
        "Ttp6OdI1YZhb",
        "PYtKqdZSDM4F"
      ],
      "authorship_tag": "ABX9TyOuA8jMyxJUyKdIij7jIpMq",
      "include_colab_link": true
    },
    "kernelspec": {
      "name": "python3",
      "display_name": "Python 3"
    },
    "language_info": {
      "name": "python"
    }
  },
  "cells": [
    {
      "cell_type": "markdown",
      "metadata": {
        "id": "view-in-github",
        "colab_type": "text"
      },
      "source": [
        "<a href=\"https://colab.research.google.com/github/viniVN7/data-mining-rotatividade-de-clientes/blob/main/Projeto_Mineracao.ipynb\" target=\"_parent\"><img src=\"https://colab.research.google.com/assets/colab-badge.svg\" alt=\"Open In Colab\"/></a>"
      ]
    },
    {
      "cell_type": "markdown",
      "source": [
        "# **PROJETO - MINERAÇÃO DE DADOS - 2022.2 💻🔍📊**\n",
        "\n",
        "---\n",
        "\n"
      ],
      "metadata": {
        "id": "pOK92Yxj2Wwr"
      }
    },
    {
      "cell_type": "markdown",
      "source": [
        "**Discente: José Vinícius de Carvalho Oliveira**"
      ],
      "metadata": {
        "id": "y-DiGr9XLy_2"
      }
    },
    {
      "cell_type": "markdown",
      "source": [
        "# **Sobre a base de dados escolhida**"
      ],
      "metadata": {
        "id": "5dJz0gbAUXHs"
      }
    },
    {
      "cell_type": "markdown",
      "source": [
        "A base de dados escolhida refere-se a um conjunto de dados de um determinado banco.\n",
        "O objetivo desta base de dados é verificar se o cliente é churn ou não churn. O termo \"churn\" refere-se à taxa de rotatividade de clientes, ou seja, se um cliente cancela ou encerra seu relacionamento com o banco. A variável alvo \"churn\" indica se o cliente deixou de utilizar os serviços do banco (1) ou permaneceu como cliente ativo (0).\n",
        "\n",
        "A base de dados apresenta as seguintes colunas:\n",
        "\n",
        "*   **customer_id** - O identificador exclusivo para um cliente específico\n",
        "*   **credit_score** - Uma medida de credibilidade, quão confiável é o credor do cliente.\n",
        "*   **country** - País de residência do cliente.\n",
        "*   **sexo** - Sexo do cliente.\n",
        "*   **age** - Idade do cliente.\n",
        "*   **tenure** - Período de tempo que o cliente mantém uma conta no banco.\n",
        "*   **saldo** - Valor em dinheiro presente na conta do cliente.\n",
        "*   **products_number** - O número de produtos distintos que o cliente possui no banco (tanto conta corrente, isa, etc.)\n",
        "*   **credit_card** - O cliente possui um cartão de crédito com o banco? (1/0)\n",
        "*   **active_member** - O cliente está usando ativamente os serviços do banco?\n",
        "*   **estimado_salário** - Receita total estimada do cliente.\n",
        "*   **churn** - O cliente churn? (1/0) - Label/Classe"
      ],
      "metadata": {
        "id": "61L2VkQIYkox"
      }
    },
    {
      "cell_type": "markdown",
      "source": [
        "[Link da base de dados utilizada](https://www.kaggle.com/datasets/gauravtopre/bank-customer-churn-dataset)"
      ],
      "metadata": {
        "id": "ziELdveKMFSd"
      }
    },
    {
      "cell_type": "markdown",
      "source": [
        "# **Bibliotecas utilizadas**"
      ],
      "metadata": {
        "id": "KVKUw4ysjiMA"
      }
    },
    {
      "cell_type": "code",
      "execution_count": null,
      "metadata": {
        "id": "l5jpBLX4MR4z"
      },
      "outputs": [],
      "source": [
        "import numpy as np\n",
        "import pandas as pd\n",
        "import matplotlib.pyplot as plt\n",
        "import seaborn as sns\n",
        "\n",
        "from sklearn import preprocessing\n",
        "from sklearn.preprocessing import OneHotEncoder, StandardScaler\n",
        "from sklearn.model_selection import train_test_split\n",
        "from sklearn.metrics import accuracy_score, precision_score, recall_score, f1_score\n",
        "from sklearn.ensemble import RandomForestClassifier,GradientBoostingClassifier\n",
        "from sklearn.model_selection import cross_validate\n",
        "from sklearn.linear_model import LogisticRegression\n",
        "from sklearn.tree import DecisionTreeClassifier\n",
        "from sklearn.naive_bayes import GaussianNB\n",
        "from sklearn.compose import ColumnTransformer\n",
        "from sklearn.pipeline import Pipeline\n",
        "from sklearn.model_selection import cross_val_score\n",
        "import lightgbm as lgb"
      ]
    },
    {
      "cell_type": "markdown",
      "source": [
        "# **Base de dados**"
      ],
      "metadata": {
        "id": "PcB4pTHEmReD"
      }
    },
    {
      "cell_type": "code",
      "source": [
        "url = 'https://raw.githubusercontent.com/viniVN7/Mineracao-De-Dados/main/Projeto/Bank%20Customer%20Churn%20Prediction.csv'\n",
        "df = pd.read_csv(url, sep=',', encoding = 'latin1')"
      ],
      "metadata": {
        "id": "OstaYQETM_Lr"
      },
      "execution_count": null,
      "outputs": []
    },
    {
      "cell_type": "code",
      "source": [
        "df.head()"
      ],
      "metadata": {
        "id": "dk4P0PwzM_tj",
        "colab": {
          "base_uri": "https://localhost:8080/",
          "height": 206
        },
        "outputId": "13dc24a2-fdf7-4f12-9ea2-685acc091781"
      },
      "execution_count": null,
      "outputs": [
        {
          "output_type": "execute_result",
          "data": {
            "text/plain": [
              "   customer_id  credit_score country  gender  age  tenure    balance  \\\n",
              "0     15634602           619  France  Female   42       2       0.00   \n",
              "1     15647311           608   Spain  Female   41       1   83807.86   \n",
              "2     15619304           502  France  Female   42       8  159660.80   \n",
              "3     15701354           699  France  Female   39       1       0.00   \n",
              "4     15737888           850   Spain  Female   43       2  125510.82   \n",
              "\n",
              "   products_number  credit_card  active_member  estimated_salary  churn  \n",
              "0                1            1              1         101348.88      1  \n",
              "1                1            0              1         112542.58      0  \n",
              "2                3            1              0         113931.57      1  \n",
              "3                2            0              0          93826.63      0  \n",
              "4                1            1              1          79084.10      0  "
            ],
            "text/html": [
              "\n",
              "  <div id=\"df-04383d73-4555-43b8-a528-bfed4a78e667\">\n",
              "    <div class=\"colab-df-container\">\n",
              "      <div>\n",
              "<style scoped>\n",
              "    .dataframe tbody tr th:only-of-type {\n",
              "        vertical-align: middle;\n",
              "    }\n",
              "\n",
              "    .dataframe tbody tr th {\n",
              "        vertical-align: top;\n",
              "    }\n",
              "\n",
              "    .dataframe thead th {\n",
              "        text-align: right;\n",
              "    }\n",
              "</style>\n",
              "<table border=\"1\" class=\"dataframe\">\n",
              "  <thead>\n",
              "    <tr style=\"text-align: right;\">\n",
              "      <th></th>\n",
              "      <th>customer_id</th>\n",
              "      <th>credit_score</th>\n",
              "      <th>country</th>\n",
              "      <th>gender</th>\n",
              "      <th>age</th>\n",
              "      <th>tenure</th>\n",
              "      <th>balance</th>\n",
              "      <th>products_number</th>\n",
              "      <th>credit_card</th>\n",
              "      <th>active_member</th>\n",
              "      <th>estimated_salary</th>\n",
              "      <th>churn</th>\n",
              "    </tr>\n",
              "  </thead>\n",
              "  <tbody>\n",
              "    <tr>\n",
              "      <th>0</th>\n",
              "      <td>15634602</td>\n",
              "      <td>619</td>\n",
              "      <td>France</td>\n",
              "      <td>Female</td>\n",
              "      <td>42</td>\n",
              "      <td>2</td>\n",
              "      <td>0.00</td>\n",
              "      <td>1</td>\n",
              "      <td>1</td>\n",
              "      <td>1</td>\n",
              "      <td>101348.88</td>\n",
              "      <td>1</td>\n",
              "    </tr>\n",
              "    <tr>\n",
              "      <th>1</th>\n",
              "      <td>15647311</td>\n",
              "      <td>608</td>\n",
              "      <td>Spain</td>\n",
              "      <td>Female</td>\n",
              "      <td>41</td>\n",
              "      <td>1</td>\n",
              "      <td>83807.86</td>\n",
              "      <td>1</td>\n",
              "      <td>0</td>\n",
              "      <td>1</td>\n",
              "      <td>112542.58</td>\n",
              "      <td>0</td>\n",
              "    </tr>\n",
              "    <tr>\n",
              "      <th>2</th>\n",
              "      <td>15619304</td>\n",
              "      <td>502</td>\n",
              "      <td>France</td>\n",
              "      <td>Female</td>\n",
              "      <td>42</td>\n",
              "      <td>8</td>\n",
              "      <td>159660.80</td>\n",
              "      <td>3</td>\n",
              "      <td>1</td>\n",
              "      <td>0</td>\n",
              "      <td>113931.57</td>\n",
              "      <td>1</td>\n",
              "    </tr>\n",
              "    <tr>\n",
              "      <th>3</th>\n",
              "      <td>15701354</td>\n",
              "      <td>699</td>\n",
              "      <td>France</td>\n",
              "      <td>Female</td>\n",
              "      <td>39</td>\n",
              "      <td>1</td>\n",
              "      <td>0.00</td>\n",
              "      <td>2</td>\n",
              "      <td>0</td>\n",
              "      <td>0</td>\n",
              "      <td>93826.63</td>\n",
              "      <td>0</td>\n",
              "    </tr>\n",
              "    <tr>\n",
              "      <th>4</th>\n",
              "      <td>15737888</td>\n",
              "      <td>850</td>\n",
              "      <td>Spain</td>\n",
              "      <td>Female</td>\n",
              "      <td>43</td>\n",
              "      <td>2</td>\n",
              "      <td>125510.82</td>\n",
              "      <td>1</td>\n",
              "      <td>1</td>\n",
              "      <td>1</td>\n",
              "      <td>79084.10</td>\n",
              "      <td>0</td>\n",
              "    </tr>\n",
              "  </tbody>\n",
              "</table>\n",
              "</div>\n",
              "      <button class=\"colab-df-convert\" onclick=\"convertToInteractive('df-04383d73-4555-43b8-a528-bfed4a78e667')\"\n",
              "              title=\"Convert this dataframe to an interactive table.\"\n",
              "              style=\"display:none;\">\n",
              "        \n",
              "  <svg xmlns=\"http://www.w3.org/2000/svg\" height=\"24px\"viewBox=\"0 0 24 24\"\n",
              "       width=\"24px\">\n",
              "    <path d=\"M0 0h24v24H0V0z\" fill=\"none\"/>\n",
              "    <path d=\"M18.56 5.44l.94 2.06.94-2.06 2.06-.94-2.06-.94-.94-2.06-.94 2.06-2.06.94zm-11 1L8.5 8.5l.94-2.06 2.06-.94-2.06-.94L8.5 2.5l-.94 2.06-2.06.94zm10 10l.94 2.06.94-2.06 2.06-.94-2.06-.94-.94-2.06-.94 2.06-2.06.94z\"/><path d=\"M17.41 7.96l-1.37-1.37c-.4-.4-.92-.59-1.43-.59-.52 0-1.04.2-1.43.59L10.3 9.45l-7.72 7.72c-.78.78-.78 2.05 0 2.83L4 21.41c.39.39.9.59 1.41.59.51 0 1.02-.2 1.41-.59l7.78-7.78 2.81-2.81c.8-.78.8-2.07 0-2.86zM5.41 20L4 18.59l7.72-7.72 1.47 1.35L5.41 20z\"/>\n",
              "  </svg>\n",
              "      </button>\n",
              "      \n",
              "  <style>\n",
              "    .colab-df-container {\n",
              "      display:flex;\n",
              "      flex-wrap:wrap;\n",
              "      gap: 12px;\n",
              "    }\n",
              "\n",
              "    .colab-df-convert {\n",
              "      background-color: #E8F0FE;\n",
              "      border: none;\n",
              "      border-radius: 50%;\n",
              "      cursor: pointer;\n",
              "      display: none;\n",
              "      fill: #1967D2;\n",
              "      height: 32px;\n",
              "      padding: 0 0 0 0;\n",
              "      width: 32px;\n",
              "    }\n",
              "\n",
              "    .colab-df-convert:hover {\n",
              "      background-color: #E2EBFA;\n",
              "      box-shadow: 0px 1px 2px rgba(60, 64, 67, 0.3), 0px 1px 3px 1px rgba(60, 64, 67, 0.15);\n",
              "      fill: #174EA6;\n",
              "    }\n",
              "\n",
              "    [theme=dark] .colab-df-convert {\n",
              "      background-color: #3B4455;\n",
              "      fill: #D2E3FC;\n",
              "    }\n",
              "\n",
              "    [theme=dark] .colab-df-convert:hover {\n",
              "      background-color: #434B5C;\n",
              "      box-shadow: 0px 1px 3px 1px rgba(0, 0, 0, 0.15);\n",
              "      filter: drop-shadow(0px 1px 2px rgba(0, 0, 0, 0.3));\n",
              "      fill: #FFFFFF;\n",
              "    }\n",
              "  </style>\n",
              "\n",
              "      <script>\n",
              "        const buttonEl =\n",
              "          document.querySelector('#df-04383d73-4555-43b8-a528-bfed4a78e667 button.colab-df-convert');\n",
              "        buttonEl.style.display =\n",
              "          google.colab.kernel.accessAllowed ? 'block' : 'none';\n",
              "\n",
              "        async function convertToInteractive(key) {\n",
              "          const element = document.querySelector('#df-04383d73-4555-43b8-a528-bfed4a78e667');\n",
              "          const dataTable =\n",
              "            await google.colab.kernel.invokeFunction('convertToInteractive',\n",
              "                                                     [key], {});\n",
              "          if (!dataTable) return;\n",
              "\n",
              "          const docLinkHtml = 'Like what you see? Visit the ' +\n",
              "            '<a target=\"_blank\" href=https://colab.research.google.com/notebooks/data_table.ipynb>data table notebook</a>'\n",
              "            + ' to learn more about interactive tables.';\n",
              "          element.innerHTML = '';\n",
              "          dataTable['output_type'] = 'display_data';\n",
              "          await google.colab.output.renderOutput(dataTable, element);\n",
              "          const docLink = document.createElement('div');\n",
              "          docLink.innerHTML = docLinkHtml;\n",
              "          element.appendChild(docLink);\n",
              "        }\n",
              "      </script>\n",
              "    </div>\n",
              "  </div>\n",
              "  "
            ]
          },
          "metadata": {},
          "execution_count": 3
        }
      ]
    },
    {
      "cell_type": "code",
      "source": [
        "# verificando se existe alguma coluna que apresente linhas nulas\n",
        "df.isnull().sum()"
      ],
      "metadata": {
        "id": "vCmPGEgpeY_W",
        "colab": {
          "base_uri": "https://localhost:8080/"
        },
        "outputId": "66c6b1ef-ff95-4b9f-80e7-3651a00ed9e5"
      },
      "execution_count": null,
      "outputs": [
        {
          "output_type": "execute_result",
          "data": {
            "text/plain": [
              "customer_id         0\n",
              "credit_score        0\n",
              "country             0\n",
              "gender              0\n",
              "age                 0\n",
              "tenure              0\n",
              "balance             0\n",
              "products_number     0\n",
              "credit_card         0\n",
              "active_member       0\n",
              "estimated_salary    0\n",
              "churn               0\n",
              "dtype: int64"
            ]
          },
          "metadata": {},
          "execution_count": 4
        }
      ]
    },
    {
      "cell_type": "code",
      "source": [
        "#verificando se há valores repetidos\n",
        "df.loc[df['customer_id'] == df['customer_id'].duplicated()]"
      ],
      "metadata": {
        "id": "jaxNkOSRQDSJ",
        "colab": {
          "base_uri": "https://localhost:8080/",
          "height": 49
        },
        "outputId": "fa35ddca-c340-476e-d06e-997763d86beb"
      },
      "execution_count": null,
      "outputs": [
        {
          "output_type": "execute_result",
          "data": {
            "text/plain": [
              "Empty DataFrame\n",
              "Columns: [customer_id, credit_score, country, gender, age, tenure, balance, products_number, credit_card, active_member, estimated_salary, churn]\n",
              "Index: []"
            ],
            "text/html": [
              "\n",
              "  <div id=\"df-6f7a5c29-dd6b-48c2-85ac-0d09264ae9c0\">\n",
              "    <div class=\"colab-df-container\">\n",
              "      <div>\n",
              "<style scoped>\n",
              "    .dataframe tbody tr th:only-of-type {\n",
              "        vertical-align: middle;\n",
              "    }\n",
              "\n",
              "    .dataframe tbody tr th {\n",
              "        vertical-align: top;\n",
              "    }\n",
              "\n",
              "    .dataframe thead th {\n",
              "        text-align: right;\n",
              "    }\n",
              "</style>\n",
              "<table border=\"1\" class=\"dataframe\">\n",
              "  <thead>\n",
              "    <tr style=\"text-align: right;\">\n",
              "      <th></th>\n",
              "      <th>customer_id</th>\n",
              "      <th>credit_score</th>\n",
              "      <th>country</th>\n",
              "      <th>gender</th>\n",
              "      <th>age</th>\n",
              "      <th>tenure</th>\n",
              "      <th>balance</th>\n",
              "      <th>products_number</th>\n",
              "      <th>credit_card</th>\n",
              "      <th>active_member</th>\n",
              "      <th>estimated_salary</th>\n",
              "      <th>churn</th>\n",
              "    </tr>\n",
              "  </thead>\n",
              "  <tbody>\n",
              "  </tbody>\n",
              "</table>\n",
              "</div>\n",
              "      <button class=\"colab-df-convert\" onclick=\"convertToInteractive('df-6f7a5c29-dd6b-48c2-85ac-0d09264ae9c0')\"\n",
              "              title=\"Convert this dataframe to an interactive table.\"\n",
              "              style=\"display:none;\">\n",
              "        \n",
              "  <svg xmlns=\"http://www.w3.org/2000/svg\" height=\"24px\"viewBox=\"0 0 24 24\"\n",
              "       width=\"24px\">\n",
              "    <path d=\"M0 0h24v24H0V0z\" fill=\"none\"/>\n",
              "    <path d=\"M18.56 5.44l.94 2.06.94-2.06 2.06-.94-2.06-.94-.94-2.06-.94 2.06-2.06.94zm-11 1L8.5 8.5l.94-2.06 2.06-.94-2.06-.94L8.5 2.5l-.94 2.06-2.06.94zm10 10l.94 2.06.94-2.06 2.06-.94-2.06-.94-.94-2.06-.94 2.06-2.06.94z\"/><path d=\"M17.41 7.96l-1.37-1.37c-.4-.4-.92-.59-1.43-.59-.52 0-1.04.2-1.43.59L10.3 9.45l-7.72 7.72c-.78.78-.78 2.05 0 2.83L4 21.41c.39.39.9.59 1.41.59.51 0 1.02-.2 1.41-.59l7.78-7.78 2.81-2.81c.8-.78.8-2.07 0-2.86zM5.41 20L4 18.59l7.72-7.72 1.47 1.35L5.41 20z\"/>\n",
              "  </svg>\n",
              "      </button>\n",
              "      \n",
              "  <style>\n",
              "    .colab-df-container {\n",
              "      display:flex;\n",
              "      flex-wrap:wrap;\n",
              "      gap: 12px;\n",
              "    }\n",
              "\n",
              "    .colab-df-convert {\n",
              "      background-color: #E8F0FE;\n",
              "      border: none;\n",
              "      border-radius: 50%;\n",
              "      cursor: pointer;\n",
              "      display: none;\n",
              "      fill: #1967D2;\n",
              "      height: 32px;\n",
              "      padding: 0 0 0 0;\n",
              "      width: 32px;\n",
              "    }\n",
              "\n",
              "    .colab-df-convert:hover {\n",
              "      background-color: #E2EBFA;\n",
              "      box-shadow: 0px 1px 2px rgba(60, 64, 67, 0.3), 0px 1px 3px 1px rgba(60, 64, 67, 0.15);\n",
              "      fill: #174EA6;\n",
              "    }\n",
              "\n",
              "    [theme=dark] .colab-df-convert {\n",
              "      background-color: #3B4455;\n",
              "      fill: #D2E3FC;\n",
              "    }\n",
              "\n",
              "    [theme=dark] .colab-df-convert:hover {\n",
              "      background-color: #434B5C;\n",
              "      box-shadow: 0px 1px 3px 1px rgba(0, 0, 0, 0.15);\n",
              "      filter: drop-shadow(0px 1px 2px rgba(0, 0, 0, 0.3));\n",
              "      fill: #FFFFFF;\n",
              "    }\n",
              "  </style>\n",
              "\n",
              "      <script>\n",
              "        const buttonEl =\n",
              "          document.querySelector('#df-6f7a5c29-dd6b-48c2-85ac-0d09264ae9c0 button.colab-df-convert');\n",
              "        buttonEl.style.display =\n",
              "          google.colab.kernel.accessAllowed ? 'block' : 'none';\n",
              "\n",
              "        async function convertToInteractive(key) {\n",
              "          const element = document.querySelector('#df-6f7a5c29-dd6b-48c2-85ac-0d09264ae9c0');\n",
              "          const dataTable =\n",
              "            await google.colab.kernel.invokeFunction('convertToInteractive',\n",
              "                                                     [key], {});\n",
              "          if (!dataTable) return;\n",
              "\n",
              "          const docLinkHtml = 'Like what you see? Visit the ' +\n",
              "            '<a target=\"_blank\" href=https://colab.research.google.com/notebooks/data_table.ipynb>data table notebook</a>'\n",
              "            + ' to learn more about interactive tables.';\n",
              "          element.innerHTML = '';\n",
              "          dataTable['output_type'] = 'display_data';\n",
              "          await google.colab.output.renderOutput(dataTable, element);\n",
              "          const docLink = document.createElement('div');\n",
              "          docLink.innerHTML = docLinkHtml;\n",
              "          element.appendChild(docLink);\n",
              "        }\n",
              "      </script>\n",
              "    </div>\n",
              "  </div>\n",
              "  "
            ]
          },
          "metadata": {},
          "execution_count": 5
        }
      ]
    },
    {
      "cell_type": "code",
      "source": [
        "df.drop('customer_id', 1, inplace=True)"
      ],
      "metadata": {
        "colab": {
          "base_uri": "https://localhost:8080/"
        },
        "id": "3tbchaqoWnWA",
        "outputId": "abdba075-4d61-479f-c476-5d1658a42b1a"
      },
      "execution_count": null,
      "outputs": [
        {
          "output_type": "stream",
          "name": "stderr",
          "text": [
            "<ipython-input-6-ba7c2a8a0383>:1: FutureWarning: In a future version of pandas all arguments of DataFrame.drop except for the argument 'labels' will be keyword-only.\n",
            "  df.drop('customer_id', 1, inplace=True)\n"
          ]
        }
      ]
    },
    {
      "cell_type": "markdown",
      "source": [
        "# **Quantidade de linhas e colunas**"
      ],
      "metadata": {
        "id": "PglzxiJdNfrL"
      }
    },
    {
      "cell_type": "code",
      "source": [
        "print(df.shape)\n",
        "print(df.info())"
      ],
      "metadata": {
        "id": "gXSuXjo-NfRg",
        "colab": {
          "base_uri": "https://localhost:8080/"
        },
        "outputId": "70b2b392-b09e-4dab-a2b8-3f746a5164f6"
      },
      "execution_count": null,
      "outputs": [
        {
          "output_type": "stream",
          "name": "stdout",
          "text": [
            "(10000, 11)\n",
            "<class 'pandas.core.frame.DataFrame'>\n",
            "RangeIndex: 10000 entries, 0 to 9999\n",
            "Data columns (total 11 columns):\n",
            " #   Column            Non-Null Count  Dtype  \n",
            "---  ------            --------------  -----  \n",
            " 0   credit_score      10000 non-null  int64  \n",
            " 1   country           10000 non-null  object \n",
            " 2   gender            10000 non-null  object \n",
            " 3   age               10000 non-null  int64  \n",
            " 4   tenure            10000 non-null  int64  \n",
            " 5   balance           10000 non-null  float64\n",
            " 6   products_number   10000 non-null  int64  \n",
            " 7   credit_card       10000 non-null  int64  \n",
            " 8   active_member     10000 non-null  int64  \n",
            " 9   estimated_salary  10000 non-null  float64\n",
            " 10  churn             10000 non-null  int64  \n",
            "dtypes: float64(2), int64(7), object(2)\n",
            "memory usage: 859.5+ KB\n",
            "None\n"
          ]
        }
      ]
    },
    {
      "cell_type": "markdown",
      "source": [
        "\n",
        "\n",
        "---\n",
        "\n"
      ],
      "metadata": {
        "id": "TM6nEic-YnZM"
      }
    },
    {
      "cell_type": "markdown",
      "source": [
        "# **Matriz de correlação**"
      ],
      "metadata": {
        "id": "SoH-7g1ONjnu"
      }
    },
    {
      "cell_type": "markdown",
      "source": [
        "A matriz de correlação é uma ferramenta que permite avaliar a relação entre variáveis em um conjunto de dados, ajudando a identificar associações e padrões que podem ser úteis na mineração de dados e análise de dados.\n",
        "\n",
        "A mesma exibe os coeficientes de correlação entre pares de variáveis. O coeficiente de correlação é uma medida estatística que indica a força e a direção da relação linear entre duas variáveis. O coeficiente de correlação varia de -1 a 1, onde -1 indica uma correlação negativa perfeita, 1 indica uma correlação positiva perfeita e 0 indica ausência de correlação.\n",
        "\n",
        "Ao analisar uma matriz de correlação, é possível identificar quais variáveis estão positivamente correlacionadas, o que significa que elas tendem a variar juntas na mesma direção, e quais estão negativamente correlacionadas, indicando que elas tendem a variar em direções opostas."
      ],
      "metadata": {
        "id": "bUabTJzwxqnl"
      }
    },
    {
      "cell_type": "code",
      "source": [
        "df.corr()"
      ],
      "metadata": {
        "colab": {
          "base_uri": "https://localhost:8080/",
          "height": 366
        },
        "id": "PCmgf4u1OTri",
        "outputId": "f0a5b2f9-0590-4b32-88e1-2af3f33794f4"
      },
      "execution_count": null,
      "outputs": [
        {
          "output_type": "stream",
          "name": "stderr",
          "text": [
            "<ipython-input-7-2f6f6606aa2c>:1: FutureWarning: The default value of numeric_only in DataFrame.corr is deprecated. In a future version, it will default to False. Select only valid columns or specify the value of numeric_only to silence this warning.\n",
            "  df.corr()\n"
          ]
        },
        {
          "output_type": "execute_result",
          "data": {
            "text/plain": [
              "                  credit_score       age    tenure   balance  products_number  \\\n",
              "credit_score          1.000000 -0.003965  0.000842  0.006268         0.012238   \n",
              "age                  -0.003965  1.000000 -0.009997  0.028308        -0.030680   \n",
              "tenure                0.000842 -0.009997  1.000000 -0.012254         0.013444   \n",
              "balance               0.006268  0.028308 -0.012254  1.000000        -0.304180   \n",
              "products_number       0.012238 -0.030680  0.013444 -0.304180         1.000000   \n",
              "credit_card          -0.005458 -0.011721  0.022583 -0.014858         0.003183   \n",
              "active_member         0.025651  0.085472 -0.028362 -0.010084         0.009612   \n",
              "estimated_salary     -0.001384 -0.007201  0.007784  0.012797         0.014204   \n",
              "churn                -0.027094  0.285323 -0.014001  0.118533        -0.047820   \n",
              "\n",
              "                  credit_card  active_member  estimated_salary     churn  \n",
              "credit_score        -0.005458       0.025651         -0.001384 -0.027094  \n",
              "age                 -0.011721       0.085472         -0.007201  0.285323  \n",
              "tenure               0.022583      -0.028362          0.007784 -0.014001  \n",
              "balance             -0.014858      -0.010084          0.012797  0.118533  \n",
              "products_number      0.003183       0.009612          0.014204 -0.047820  \n",
              "credit_card          1.000000      -0.011866         -0.009933 -0.007138  \n",
              "active_member       -0.011866       1.000000         -0.011421 -0.156128  \n",
              "estimated_salary    -0.009933      -0.011421          1.000000  0.012097  \n",
              "churn               -0.007138      -0.156128          0.012097  1.000000  "
            ],
            "text/html": [
              "\n",
              "  <div id=\"df-d58dc2fe-28a5-4872-a690-04073f68df3f\">\n",
              "    <div class=\"colab-df-container\">\n",
              "      <div>\n",
              "<style scoped>\n",
              "    .dataframe tbody tr th:only-of-type {\n",
              "        vertical-align: middle;\n",
              "    }\n",
              "\n",
              "    .dataframe tbody tr th {\n",
              "        vertical-align: top;\n",
              "    }\n",
              "\n",
              "    .dataframe thead th {\n",
              "        text-align: right;\n",
              "    }\n",
              "</style>\n",
              "<table border=\"1\" class=\"dataframe\">\n",
              "  <thead>\n",
              "    <tr style=\"text-align: right;\">\n",
              "      <th></th>\n",
              "      <th>credit_score</th>\n",
              "      <th>age</th>\n",
              "      <th>tenure</th>\n",
              "      <th>balance</th>\n",
              "      <th>products_number</th>\n",
              "      <th>credit_card</th>\n",
              "      <th>active_member</th>\n",
              "      <th>estimated_salary</th>\n",
              "      <th>churn</th>\n",
              "    </tr>\n",
              "  </thead>\n",
              "  <tbody>\n",
              "    <tr>\n",
              "      <th>credit_score</th>\n",
              "      <td>1.000000</td>\n",
              "      <td>-0.003965</td>\n",
              "      <td>0.000842</td>\n",
              "      <td>0.006268</td>\n",
              "      <td>0.012238</td>\n",
              "      <td>-0.005458</td>\n",
              "      <td>0.025651</td>\n",
              "      <td>-0.001384</td>\n",
              "      <td>-0.027094</td>\n",
              "    </tr>\n",
              "    <tr>\n",
              "      <th>age</th>\n",
              "      <td>-0.003965</td>\n",
              "      <td>1.000000</td>\n",
              "      <td>-0.009997</td>\n",
              "      <td>0.028308</td>\n",
              "      <td>-0.030680</td>\n",
              "      <td>-0.011721</td>\n",
              "      <td>0.085472</td>\n",
              "      <td>-0.007201</td>\n",
              "      <td>0.285323</td>\n",
              "    </tr>\n",
              "    <tr>\n",
              "      <th>tenure</th>\n",
              "      <td>0.000842</td>\n",
              "      <td>-0.009997</td>\n",
              "      <td>1.000000</td>\n",
              "      <td>-0.012254</td>\n",
              "      <td>0.013444</td>\n",
              "      <td>0.022583</td>\n",
              "      <td>-0.028362</td>\n",
              "      <td>0.007784</td>\n",
              "      <td>-0.014001</td>\n",
              "    </tr>\n",
              "    <tr>\n",
              "      <th>balance</th>\n",
              "      <td>0.006268</td>\n",
              "      <td>0.028308</td>\n",
              "      <td>-0.012254</td>\n",
              "      <td>1.000000</td>\n",
              "      <td>-0.304180</td>\n",
              "      <td>-0.014858</td>\n",
              "      <td>-0.010084</td>\n",
              "      <td>0.012797</td>\n",
              "      <td>0.118533</td>\n",
              "    </tr>\n",
              "    <tr>\n",
              "      <th>products_number</th>\n",
              "      <td>0.012238</td>\n",
              "      <td>-0.030680</td>\n",
              "      <td>0.013444</td>\n",
              "      <td>-0.304180</td>\n",
              "      <td>1.000000</td>\n",
              "      <td>0.003183</td>\n",
              "      <td>0.009612</td>\n",
              "      <td>0.014204</td>\n",
              "      <td>-0.047820</td>\n",
              "    </tr>\n",
              "    <tr>\n",
              "      <th>credit_card</th>\n",
              "      <td>-0.005458</td>\n",
              "      <td>-0.011721</td>\n",
              "      <td>0.022583</td>\n",
              "      <td>-0.014858</td>\n",
              "      <td>0.003183</td>\n",
              "      <td>1.000000</td>\n",
              "      <td>-0.011866</td>\n",
              "      <td>-0.009933</td>\n",
              "      <td>-0.007138</td>\n",
              "    </tr>\n",
              "    <tr>\n",
              "      <th>active_member</th>\n",
              "      <td>0.025651</td>\n",
              "      <td>0.085472</td>\n",
              "      <td>-0.028362</td>\n",
              "      <td>-0.010084</td>\n",
              "      <td>0.009612</td>\n",
              "      <td>-0.011866</td>\n",
              "      <td>1.000000</td>\n",
              "      <td>-0.011421</td>\n",
              "      <td>-0.156128</td>\n",
              "    </tr>\n",
              "    <tr>\n",
              "      <th>estimated_salary</th>\n",
              "      <td>-0.001384</td>\n",
              "      <td>-0.007201</td>\n",
              "      <td>0.007784</td>\n",
              "      <td>0.012797</td>\n",
              "      <td>0.014204</td>\n",
              "      <td>-0.009933</td>\n",
              "      <td>-0.011421</td>\n",
              "      <td>1.000000</td>\n",
              "      <td>0.012097</td>\n",
              "    </tr>\n",
              "    <tr>\n",
              "      <th>churn</th>\n",
              "      <td>-0.027094</td>\n",
              "      <td>0.285323</td>\n",
              "      <td>-0.014001</td>\n",
              "      <td>0.118533</td>\n",
              "      <td>-0.047820</td>\n",
              "      <td>-0.007138</td>\n",
              "      <td>-0.156128</td>\n",
              "      <td>0.012097</td>\n",
              "      <td>1.000000</td>\n",
              "    </tr>\n",
              "  </tbody>\n",
              "</table>\n",
              "</div>\n",
              "      <button class=\"colab-df-convert\" onclick=\"convertToInteractive('df-d58dc2fe-28a5-4872-a690-04073f68df3f')\"\n",
              "              title=\"Convert this dataframe to an interactive table.\"\n",
              "              style=\"display:none;\">\n",
              "        \n",
              "  <svg xmlns=\"http://www.w3.org/2000/svg\" height=\"24px\"viewBox=\"0 0 24 24\"\n",
              "       width=\"24px\">\n",
              "    <path d=\"M0 0h24v24H0V0z\" fill=\"none\"/>\n",
              "    <path d=\"M18.56 5.44l.94 2.06.94-2.06 2.06-.94-2.06-.94-.94-2.06-.94 2.06-2.06.94zm-11 1L8.5 8.5l.94-2.06 2.06-.94-2.06-.94L8.5 2.5l-.94 2.06-2.06.94zm10 10l.94 2.06.94-2.06 2.06-.94-2.06-.94-.94-2.06-.94 2.06-2.06.94z\"/><path d=\"M17.41 7.96l-1.37-1.37c-.4-.4-.92-.59-1.43-.59-.52 0-1.04.2-1.43.59L10.3 9.45l-7.72 7.72c-.78.78-.78 2.05 0 2.83L4 21.41c.39.39.9.59 1.41.59.51 0 1.02-.2 1.41-.59l7.78-7.78 2.81-2.81c.8-.78.8-2.07 0-2.86zM5.41 20L4 18.59l7.72-7.72 1.47 1.35L5.41 20z\"/>\n",
              "  </svg>\n",
              "      </button>\n",
              "      \n",
              "  <style>\n",
              "    .colab-df-container {\n",
              "      display:flex;\n",
              "      flex-wrap:wrap;\n",
              "      gap: 12px;\n",
              "    }\n",
              "\n",
              "    .colab-df-convert {\n",
              "      background-color: #E8F0FE;\n",
              "      border: none;\n",
              "      border-radius: 50%;\n",
              "      cursor: pointer;\n",
              "      display: none;\n",
              "      fill: #1967D2;\n",
              "      height: 32px;\n",
              "      padding: 0 0 0 0;\n",
              "      width: 32px;\n",
              "    }\n",
              "\n",
              "    .colab-df-convert:hover {\n",
              "      background-color: #E2EBFA;\n",
              "      box-shadow: 0px 1px 2px rgba(60, 64, 67, 0.3), 0px 1px 3px 1px rgba(60, 64, 67, 0.15);\n",
              "      fill: #174EA6;\n",
              "    }\n",
              "\n",
              "    [theme=dark] .colab-df-convert {\n",
              "      background-color: #3B4455;\n",
              "      fill: #D2E3FC;\n",
              "    }\n",
              "\n",
              "    [theme=dark] .colab-df-convert:hover {\n",
              "      background-color: #434B5C;\n",
              "      box-shadow: 0px 1px 3px 1px rgba(0, 0, 0, 0.15);\n",
              "      filter: drop-shadow(0px 1px 2px rgba(0, 0, 0, 0.3));\n",
              "      fill: #FFFFFF;\n",
              "    }\n",
              "  </style>\n",
              "\n",
              "      <script>\n",
              "        const buttonEl =\n",
              "          document.querySelector('#df-d58dc2fe-28a5-4872-a690-04073f68df3f button.colab-df-convert');\n",
              "        buttonEl.style.display =\n",
              "          google.colab.kernel.accessAllowed ? 'block' : 'none';\n",
              "\n",
              "        async function convertToInteractive(key) {\n",
              "          const element = document.querySelector('#df-d58dc2fe-28a5-4872-a690-04073f68df3f');\n",
              "          const dataTable =\n",
              "            await google.colab.kernel.invokeFunction('convertToInteractive',\n",
              "                                                     [key], {});\n",
              "          if (!dataTable) return;\n",
              "\n",
              "          const docLinkHtml = 'Like what you see? Visit the ' +\n",
              "            '<a target=\"_blank\" href=https://colab.research.google.com/notebooks/data_table.ipynb>data table notebook</a>'\n",
              "            + ' to learn more about interactive tables.';\n",
              "          element.innerHTML = '';\n",
              "          dataTable['output_type'] = 'display_data';\n",
              "          await google.colab.output.renderOutput(dataTable, element);\n",
              "          const docLink = document.createElement('div');\n",
              "          docLink.innerHTML = docLinkHtml;\n",
              "          element.appendChild(docLink);\n",
              "        }\n",
              "      </script>\n",
              "    </div>\n",
              "  </div>\n",
              "  "
            ]
          },
          "metadata": {},
          "execution_count": 7
        }
      ]
    },
    {
      "cell_type": "code",
      "source": [
        "sns.heatmap(df.corr(), annot=True, annot_kws={\"size\": 7.5}, cmap='Blues', square=True)"
      ],
      "metadata": {
        "colab": {
          "base_uri": "https://localhost:8080/",
          "height": 595
        },
        "id": "mYQgob6GNifE",
        "outputId": "7b5ac092-a0a9-4141-ad74-d53000e52c37"
      },
      "execution_count": null,
      "outputs": [
        {
          "output_type": "stream",
          "name": "stderr",
          "text": [
            "<ipython-input-8-2dc7d9779715>:2: FutureWarning: The default value of numeric_only in DataFrame.corr is deprecated. In a future version, it will default to False. Select only valid columns or specify the value of numeric_only to silence this warning.\n",
            "  sns.heatmap(df.corr(), annot=True, annot_kws={\"size\": 7.5}, cmap='Blues', square=True)\n"
          ]
        },
        {
          "output_type": "execute_result",
          "data": {
            "text/plain": [
              "<Axes: >"
            ]
          },
          "metadata": {},
          "execution_count": 8
        },
        {
          "output_type": "display_data",
          "data": {
            "text/plain": [
              "<Figure size 640x480 with 2 Axes>"
            ],
            "image/png": "[encoded data removed]"
          },
          "metadata": {}
        }
      ]
    },
    {
      "cell_type": "markdown",
      "source": [
        "# **Outliers**"
      ],
      "metadata": {
        "id": "5KZKaYdrdKEM"
      }
    },
    {
      "cell_type": "code",
      "source": [
        "# Selecionar as colunas relevantes do DataFrame (exemplo)\n",
        "colunas_interesse = ['credit_score']\n",
        "#'balance', 'estimated_salary', 'age'\n",
        "\n",
        "# Filtrar o DataFrame para incluir apenas as colunas de interesse\n",
        "df_interesse = df[colunas_interesse]\n",
        "\n",
        "# Plotar o box plot das colunas\n",
        "plt.boxplot(df_interesse.values, labels=df_interesse.columns)\n",
        "\n",
        "# Configurações do gráfico\n",
        "plt.title('Box Plot - Clientes do Banco')\n",
        "plt.ylabel('Valores')\n",
        "\n",
        "# Exibir o gráfico\n",
        "plt.show()\n"
      ],
      "metadata": {
        "id": "d6Y_PV4JYJkf",
        "colab": {
          "base_uri": "https://localhost:8080/",
          "height": 452
        },
        "outputId": "e889197e-0640-4e74-c0f6-fb7ed35b3421"
      },
      "execution_count": null,
      "outputs": [
        {
          "output_type": "display_data",
          "data": {
            "text/plain": [
              "<Figure size 640x480 with 1 Axes>"
            ],
            "image/png": "[encoded data removed]"
          },
          "metadata": {}
        }
      ]
    },
    {
      "cell_type": "code",
      "source": [
        "colunas_interesse = ['balance']\n",
        "#'balance', 'estimated_salary', 'age'\n",
        "\n",
        "df_interesse = df[colunas_interesse]\n",
        "\n",
        "# Plotar o box plot das colunas\n",
        "sns.boxplot(df['balance'])\n"
      ],
      "metadata": {
        "id": "XX8S3yw1a-Ig",
        "colab": {
          "base_uri": "https://localhost:8080/",
          "height": 447
        },
        "outputId": "f2ea8757-fc40-45b7-c333-a8693290677b"
      },
      "execution_count": null,
      "outputs": [
        {
          "output_type": "execute_result",
          "data": {
            "text/plain": [
              "<Axes: >"
            ]
          },
          "metadata": {},
          "execution_count": 97
        },
        {
          "output_type": "display_data",
          "data": {
            "text/plain": [
              "<Figure size 640x480 with 1 Axes>"
            ],
            "image/png": "[encoded data removed]"
          },
          "metadata": {}
        }
      ]
    },
    {
      "cell_type": "code",
      "source": [
        "colunas_interesse = ['age']\n",
        "#'balance', 'estimated_salary', 'age'\n",
        "\n",
        "# Filtrar o DataFrame para incluir apenas as colunas de interesse\n",
        "df_interesse = df[colunas_interesse]\n",
        "\n",
        "# Plotar o box plot das colunas\n",
        "sns.boxplot(df['age'])"
      ],
      "metadata": {
        "id": "4sQ62k9Mbsmp",
        "colab": {
          "base_uri": "https://localhost:8080/",
          "height": 447
        },
        "outputId": "f1f9646e-5c89-4540-ad1f-c8f771bcfdbe"
      },
      "execution_count": null,
      "outputs": [
        {
          "output_type": "execute_result",
          "data": {
            "text/plain": [
              "<Axes: >"
            ]
          },
          "metadata": {},
          "execution_count": 98
        },
        {
          "output_type": "display_data",
          "data": {
            "text/plain": [
              "<Figure size 640x480 with 1 Axes>"
            ],
            "image/png": "[encoded data removed]"
          },
          "metadata": {}
        }
      ]
    },
    {
      "cell_type": "code",
      "source": [
        "colunas_interesse = ['estimated_salary']\n",
        "#'balance', 'estimated_salary', 'age'\n",
        "\n",
        "# Filtrar o DataFrame para incluir apenas as colunas de interesse\n",
        "df_interesse = df[colunas_interesse]\n",
        "\n",
        "# Plotar o box plot das colunas\n",
        "sns.boxplot(df['estimated_salary'])"
      ],
      "metadata": {
        "id": "P8a2MCrScKKU",
        "colab": {
          "base_uri": "https://localhost:8080/",
          "height": 447
        },
        "outputId": "8688df54-82f5-4dd1-a148-7750a494bc24"
      },
      "execution_count": null,
      "outputs": [
        {
          "output_type": "execute_result",
          "data": {
            "text/plain": [
              "<Axes: >"
            ]
          },
          "metadata": {},
          "execution_count": 99
        },
        {
          "output_type": "display_data",
          "data": {
            "text/plain": [
              "<Figure size 640x480 with 1 Axes>"
            ],
            "image/png": "[encoded data removed]"
          },
          "metadata": {}
        }
      ]
    },
    {
      "cell_type": "code",
      "source": [
        "colunas_interesse = ['credit_score']\n",
        "#'balance', 'estimated_salary', 'age'\n",
        "\n",
        "# Filtrar o DataFrame para incluir apenas as colunas de interesse\n",
        "df_interesse = df[colunas_interesse]\n",
        "\n",
        "# Plotar o box plot das colunas\n",
        "sns.boxplot(df['credit_score'])"
      ],
      "metadata": {
        "id": "xgCJ8ZEMc5Hp",
        "colab": {
          "base_uri": "https://localhost:8080/",
          "height": 447
        },
        "outputId": "c62f9ec5-9dc1-466a-8404-c2519033c8ea"
      },
      "execution_count": null,
      "outputs": [
        {
          "output_type": "execute_result",
          "data": {
            "text/plain": [
              "<Axes: >"
            ]
          },
          "metadata": {},
          "execution_count": 100
        },
        {
          "output_type": "display_data",
          "data": {
            "text/plain": [
              "<Figure size 640x480 with 1 Axes>"
            ],
            "image/png": "[encoded data removed]"
          },
          "metadata": {}
        }
      ]
    },
    {
      "cell_type": "markdown",
      "source": [
        "# **Funções**"
      ],
      "metadata": {
        "id": "2kUz2E--Zgk-"
      }
    },
    {
      "cell_type": "code",
      "source": [
        "def gerarGrafico(labels, values, title):\n",
        "    colors = ['#1f77b4', '#aec7e8']\n",
        "\n",
        "    # Criar o gráfico de pizza\n",
        "    plt.pie(values, labels=labels, colors=colors, autopct='%1.1f%%', startangle=90)\n",
        "\n",
        "    # Ajustar o aspect ratio para que o gráfico de pizza fique circular\n",
        "    plt.axis('equal')\n",
        "\n",
        "    # Adicionar um título\n",
        "    plt.title(title)\n",
        "\n",
        "    # Exibir o gráfico\n",
        "    plt.show()\n"
      ],
      "metadata": {
        "id": "e5NNhDgYhFeY"
      },
      "execution_count": null,
      "outputs": []
    },
    {
      "cell_type": "markdown",
      "source": [
        "\n",
        "\n",
        "---\n",
        "\n",
        "\n",
        "\n",
        "\n",
        "# **RELATÓRIOS DESCRITIVOS**\n",
        "\n",
        "---\n",
        "\n"
      ],
      "metadata": {
        "id": "p-htcETzWCnl"
      }
    },
    {
      "cell_type": "markdown",
      "source": [
        "## **Estatísticas descritivas gerais**"
      ],
      "metadata": {
        "id": "PF9QnErsWc84"
      }
    },
    {
      "cell_type": "code",
      "source": [
        "df.describe()\n",
        "\n",
        "#count: número de valores não nulos\n",
        "#mean: média dos valores\n",
        "#std: desvio padrão dos valores\n",
        "#min: valor mínimo\n",
        "#25%: primeiro quartil (25%)\n",
        "#50%: segundo quartil ou mediana (50%)\n",
        "#75%: terceiro quartil (75%)\n",
        "#max: valor máximo"
      ],
      "metadata": {
        "id": "XCOyTuwcRXG2",
        "colab": {
          "base_uri": "https://localhost:8080/",
          "height": 300
        },
        "outputId": "4b107f8f-851f-4b19-afa2-8125c22c3dcc"
      },
      "execution_count": null,
      "outputs": [
        {
          "output_type": "execute_result",
          "data": {
            "text/plain": [
              "       credit_score           age        tenure        balance  \\\n",
              "count  10000.000000  10000.000000  10000.000000   10000.000000   \n",
              "mean     650.528800     38.921800      5.012800   76485.889288   \n",
              "std       96.653299     10.487806      2.892174   62397.405202   \n",
              "min      350.000000     18.000000      0.000000       0.000000   \n",
              "25%      584.000000     32.000000      3.000000       0.000000   \n",
              "50%      652.000000     37.000000      5.000000   97198.540000   \n",
              "75%      718.000000     44.000000      7.000000  127644.240000   \n",
              "max      850.000000     92.000000     10.000000  250898.090000   \n",
              "\n",
              "       products_number  credit_card  active_member  estimated_salary  \\\n",
              "count     10000.000000  10000.00000   10000.000000      10000.000000   \n",
              "mean          1.530200      0.70550       0.515100     100090.239881   \n",
              "std           0.581654      0.45584       0.499797      57510.492818   \n",
              "min           1.000000      0.00000       0.000000         11.580000   \n",
              "25%           1.000000      0.00000       0.000000      51002.110000   \n",
              "50%           1.000000      1.00000       1.000000     100193.915000   \n",
              "75%           2.000000      1.00000       1.000000     149388.247500   \n",
              "max           4.000000      1.00000       1.000000     199992.480000   \n",
              "\n",
              "              churn  \n",
              "count  10000.000000  \n",
              "mean       0.203700  \n",
              "std        0.402769  \n",
              "min        0.000000  \n",
              "25%        0.000000  \n",
              "50%        0.000000  \n",
              "75%        0.000000  \n",
              "max        1.000000  "
            ],
            "text/html": [
              "\n",
              "  <div id=\"df-31189aaf-6180-42e8-b912-047e35343ffe\">\n",
              "    <div class=\"colab-df-container\">\n",
              "      <div>\n",
              "<style scoped>\n",
              "    .dataframe tbody tr th:only-of-type {\n",
              "        vertical-align: middle;\n",
              "    }\n",
              "\n",
              "    .dataframe tbody tr th {\n",
              "        vertical-align: top;\n",
              "    }\n",
              "\n",
              "    .dataframe thead th {\n",
              "        text-align: right;\n",
              "    }\n",
              "</style>\n",
              "<table border=\"1\" class=\"dataframe\">\n",
              "  <thead>\n",
              "    <tr style=\"text-align: right;\">\n",
              "      <th></th>\n",
              "      <th>credit_score</th>\n",
              "      <th>age</th>\n",
              "      <th>tenure</th>\n",
              "      <th>balance</th>\n",
              "      <th>products_number</th>\n",
              "      <th>credit_card</th>\n",
              "      <th>active_member</th>\n",
              "      <th>estimated_salary</th>\n",
              "      <th>churn</th>\n",
              "    </tr>\n",
              "  </thead>\n",
              "  <tbody>\n",
              "    <tr>\n",
              "      <th>count</th>\n",
              "      <td>10000.000000</td>\n",
              "      <td>10000.000000</td>\n",
              "      <td>10000.000000</td>\n",
              "      <td>10000.000000</td>\n",
              "      <td>10000.000000</td>\n",
              "      <td>10000.00000</td>\n",
              "      <td>10000.000000</td>\n",
              "      <td>10000.000000</td>\n",
              "      <td>10000.000000</td>\n",
              "    </tr>\n",
              "    <tr>\n",
              "      <th>mean</th>\n",
              "      <td>650.528800</td>\n",
              "      <td>38.921800</td>\n",
              "      <td>5.012800</td>\n",
              "      <td>76485.889288</td>\n",
              "      <td>1.530200</td>\n",
              "      <td>0.70550</td>\n",
              "      <td>0.515100</td>\n",
              "      <td>100090.239881</td>\n",
              "      <td>0.203700</td>\n",
              "    </tr>\n",
              "    <tr>\n",
              "      <th>std</th>\n",
              "      <td>96.653299</td>\n",
              "      <td>10.487806</td>\n",
              "      <td>2.892174</td>\n",
              "      <td>62397.405202</td>\n",
              "      <td>0.581654</td>\n",
              "      <td>0.45584</td>\n",
              "      <td>0.499797</td>\n",
              "      <td>57510.492818</td>\n",
              "      <td>0.402769</td>\n",
              "    </tr>\n",
              "    <tr>\n",
              "      <th>min</th>\n",
              "      <td>350.000000</td>\n",
              "      <td>18.000000</td>\n",
              "      <td>0.000000</td>\n",
              "      <td>0.000000</td>\n",
              "      <td>1.000000</td>\n",
              "      <td>0.00000</td>\n",
              "      <td>0.000000</td>\n",
              "      <td>11.580000</td>\n",
              "      <td>0.000000</td>\n",
              "    </tr>\n",
              "    <tr>\n",
              "      <th>25%</th>\n",
              "      <td>584.000000</td>\n",
              "      <td>32.000000</td>\n",
              "      <td>3.000000</td>\n",
              "      <td>0.000000</td>\n",
              "      <td>1.000000</td>\n",
              "      <td>0.00000</td>\n",
              "      <td>0.000000</td>\n",
              "      <td>51002.110000</td>\n",
              "      <td>0.000000</td>\n",
              "    </tr>\n",
              "    <tr>\n",
              "      <th>50%</th>\n",
              "      <td>652.000000</td>\n",
              "      <td>37.000000</td>\n",
              "      <td>5.000000</td>\n",
              "      <td>97198.540000</td>\n",
              "      <td>1.000000</td>\n",
              "      <td>1.00000</td>\n",
              "      <td>1.000000</td>\n",
              "      <td>100193.915000</td>\n",
              "      <td>0.000000</td>\n",
              "    </tr>\n",
              "    <tr>\n",
              "      <th>75%</th>\n",
              "      <td>718.000000</td>\n",
              "      <td>44.000000</td>\n",
              "      <td>7.000000</td>\n",
              "      <td>127644.240000</td>\n",
              "      <td>2.000000</td>\n",
              "      <td>1.00000</td>\n",
              "      <td>1.000000</td>\n",
              "      <td>149388.247500</td>\n",
              "      <td>0.000000</td>\n",
              "    </tr>\n",
              "    <tr>\n",
              "      <th>max</th>\n",
              "      <td>850.000000</td>\n",
              "      <td>92.000000</td>\n",
              "      <td>10.000000</td>\n",
              "      <td>250898.090000</td>\n",
              "      <td>4.000000</td>\n",
              "      <td>1.00000</td>\n",
              "      <td>1.000000</td>\n",
              "      <td>199992.480000</td>\n",
              "      <td>1.000000</td>\n",
              "    </tr>\n",
              "  </tbody>\n",
              "</table>\n",
              "</div>\n",
              "      <button class=\"colab-df-convert\" onclick=\"convertToInteractive('df-31189aaf-6180-42e8-b912-047e35343ffe')\"\n",
              "              title=\"Convert this dataframe to an interactive table.\"\n",
              "              style=\"display:none;\">\n",
              "        \n",
              "  <svg xmlns=\"http://www.w3.org/2000/svg\" height=\"24px\"viewBox=\"0 0 24 24\"\n",
              "       width=\"24px\">\n",
              "    <path d=\"M0 0h24v24H0V0z\" fill=\"none\"/>\n",
              "    <path d=\"M18.56 5.44l.94 2.06.94-2.06 2.06-.94-2.06-.94-.94-2.06-.94 2.06-2.06.94zm-11 1L8.5 8.5l.94-2.06 2.06-.94-2.06-.94L8.5 2.5l-.94 2.06-2.06.94zm10 10l.94 2.06.94-2.06 2.06-.94-2.06-.94-.94-2.06-.94 2.06-2.06.94z\"/><path d=\"M17.41 7.96l-1.37-1.37c-.4-.4-.92-.59-1.43-.59-.52 0-1.04.2-1.43.59L10.3 9.45l-7.72 7.72c-.78.78-.78 2.05 0 2.83L4 21.41c.39.39.9.59 1.41.59.51 0 1.02-.2 1.41-.59l7.78-7.78 2.81-2.81c.8-.78.8-2.07 0-2.86zM5.41 20L4 18.59l7.72-7.72 1.47 1.35L5.41 20z\"/>\n",
              "  </svg>\n",
              "      </button>\n",
              "      \n",
              "  <style>\n",
              "    .colab-df-container {\n",
              "      display:flex;\n",
              "      flex-wrap:wrap;\n",
              "      gap: 12px;\n",
              "    }\n",
              "\n",
              "    .colab-df-convert {\n",
              "      background-color: #E8F0FE;\n",
              "      border: none;\n",
              "      border-radius: 50%;\n",
              "      cursor: pointer;\n",
              "      display: none;\n",
              "      fill: #1967D2;\n",
              "      height: 32px;\n",
              "      padding: 0 0 0 0;\n",
              "      width: 32px;\n",
              "    }\n",
              "\n",
              "    .colab-df-convert:hover {\n",
              "      background-color: #E2EBFA;\n",
              "      box-shadow: 0px 1px 2px rgba(60, 64, 67, 0.3), 0px 1px 3px 1px rgba(60, 64, 67, 0.15);\n",
              "      fill: #174EA6;\n",
              "    }\n",
              "\n",
              "    [theme=dark] .colab-df-convert {\n",
              "      background-color: #3B4455;\n",
              "      fill: #D2E3FC;\n",
              "    }\n",
              "\n",
              "    [theme=dark] .colab-df-convert:hover {\n",
              "      background-color: #434B5C;\n",
              "      box-shadow: 0px 1px 3px 1px rgba(0, 0, 0, 0.15);\n",
              "      filter: drop-shadow(0px 1px 2px rgba(0, 0, 0, 0.3));\n",
              "      fill: #FFFFFF;\n",
              "    }\n",
              "  </style>\n",
              "\n",
              "      <script>\n",
              "        const buttonEl =\n",
              "          document.querySelector('#df-31189aaf-6180-42e8-b912-047e35343ffe button.colab-df-convert');\n",
              "        buttonEl.style.display =\n",
              "          google.colab.kernel.accessAllowed ? 'block' : 'none';\n",
              "\n",
              "        async function convertToInteractive(key) {\n",
              "          const element = document.querySelector('#df-31189aaf-6180-42e8-b912-047e35343ffe');\n",
              "          const dataTable =\n",
              "            await google.colab.kernel.invokeFunction('convertToInteractive',\n",
              "                                                     [key], {});\n",
              "          if (!dataTable) return;\n",
              "\n",
              "          const docLinkHtml = 'Like what you see? Visit the ' +\n",
              "            '<a target=\"_blank\" href=https://colab.research.google.com/notebooks/data_table.ipynb>data table notebook</a>'\n",
              "            + ' to learn more about interactive tables.';\n",
              "          element.innerHTML = '';\n",
              "          dataTable['output_type'] = 'display_data';\n",
              "          await google.colab.output.renderOutput(dataTable, element);\n",
              "          const docLink = document.createElement('div');\n",
              "          docLink.innerHTML = docLinkHtml;\n",
              "          element.appendChild(docLink);\n",
              "        }\n",
              "      </script>\n",
              "    </div>\n",
              "  </div>\n",
              "  "
            ]
          },
          "metadata": {},
          "execution_count": 16
        }
      ]
    },
    {
      "cell_type": "markdown",
      "source": [
        "## **Country**"
      ],
      "metadata": {
        "id": "sMiqXObvuPUG"
      }
    },
    {
      "cell_type": "markdown",
      "source": [
        "**Quantidade de clientes por país**"
      ],
      "metadata": {
        "id": "TMPfGMNEN7zi"
      }
    },
    {
      "cell_type": "code",
      "source": [
        "df['country'].value_counts()"
      ],
      "metadata": {
        "id": "TRYOe3YSOA88",
        "colab": {
          "base_uri": "https://localhost:8080/"
        },
        "outputId": "cfdb62d9-bec4-4356-fd89-7398ffd669d6"
      },
      "execution_count": null,
      "outputs": [
        {
          "output_type": "execute_result",
          "data": {
            "text/plain": [
              "France     5014\n",
              "Germany    2509\n",
              "Spain      2477\n",
              "Name: country, dtype: int64"
            ]
          },
          "metadata": {},
          "execution_count": 17
        }
      ]
    },
    {
      "cell_type": "code",
      "source": [
        "# Contar a frequência de cada valor na coluna 'country'\n",
        "country_counts = df['country'].value_counts()\n",
        "\n",
        "# Definir as cores para cada coluna\n",
        "colors = ['#3E92CC', '#F1BF98', '#E1F4CB']\n",
        "\n",
        "# Criar o gráfico de colunas\n",
        "plt.bar(country_counts.index, country_counts.values, color=colors)\n",
        "\n",
        "# Adicionar rótulos aos eixos\n",
        "plt.xlabel('País')\n",
        "plt.ylabel('Frequência')\n",
        "\n",
        "# Adicionar o número exato de clientes em cada barra\n",
        "for i, count in enumerate(country_counts.values):\n",
        "    plt.text(i, count, str(count), ha='center', va='bottom')\n",
        "\n",
        "# Mostrar o gráfico\n",
        "plt.show()\n"
      ],
      "metadata": {
        "id": "yzqZ25tgIdCl",
        "colab": {
          "base_uri": "https://localhost:8080/",
          "height": 449
        },
        "outputId": "5508dc10-1220-4301-c2cd-69f2e96adfa8"
      },
      "execution_count": null,
      "outputs": [
        {
          "output_type": "display_data",
          "data": {
            "text/plain": [
              "<Figure size 640x480 with 1 Axes>"
            ],
            "image/png": "[encoded data removed]"
          },
          "metadata": {}
        }
      ]
    },
    {
      "cell_type": "markdown",
      "source": [
        "**Quantidade de clientes churn por país**"
      ],
      "metadata": {
        "id": "Ty_uHAzpv9AO"
      }
    },
    {
      "cell_type": "code",
      "source": [
        "contagem_churn_por_pais = df[df['churn'] == 1].groupby('country').size()\n",
        "print(contagem_churn_por_pais)"
      ],
      "metadata": {
        "colab": {
          "base_uri": "https://localhost:8080/"
        },
        "id": "huMdq4ZTv8B5",
        "outputId": "ba9dd276-12f3-4c5a-fa90-6336c0166b75"
      },
      "execution_count": null,
      "outputs": [
        {
          "output_type": "stream",
          "name": "stdout",
          "text": [
            "country\n",
            "France     810\n",
            "Germany    814\n",
            "Spain      413\n",
            "dtype: int64\n"
          ]
        }
      ]
    },
    {
      "cell_type": "code",
      "source": [
        "#Qual a porcentagem que esses valores representam em relação ao total de clientes de cada país\n",
        "\n",
        "contagem_churn_por_pais = df[df['churn'] == 1].groupby('country').size()\n",
        "\n",
        "total_clientes_por_pais = df['country'].value_counts()\n",
        "\n",
        "porcentagem_churn_por_pais = (contagem_churn_por_pais / total_clientes_por_pais) * 100\n",
        "\n",
        "print(round(porcentagem_churn_por_pais,2))\n"
      ],
      "metadata": {
        "colab": {
          "base_uri": "https://localhost:8080/"
        },
        "id": "6IMLZ4TSzKXS",
        "outputId": "6f4e2614-359e-404b-ec7e-712a75579244"
      },
      "execution_count": null,
      "outputs": [
        {
          "output_type": "stream",
          "name": "stdout",
          "text": [
            "country\n",
            "France     16.15\n",
            "Germany    32.44\n",
            "Spain      16.67\n",
            "dtype: float64\n"
          ]
        }
      ]
    },
    {
      "cell_type": "code",
      "source": [
        "# Filtrar os dados do DataFrame para clientes churn e não churn\n",
        "churn_data = df[df['churn'] == 1]\n",
        "non_churn_data = df[df['churn'] == 0]\n",
        "\n",
        "# Contagem de clientes churn e não churn por país\n",
        "churn_counts = churn_data['country'].value_counts()\n",
        "non_churn_counts = non_churn_data['country'].value_counts()\n",
        "\n",
        "# Calcular as porcentagens de churn e não churn por país\n",
        "churn_percentages = (churn_counts / df['country'].value_counts()) * 100\n",
        "non_churn_percentages = (non_churn_counts / df['country'].value_counts()) * 100\n",
        "\n",
        "# Configurar a posição das barras no gráfico\n",
        "x = range(len(churn_percentages))\n",
        "\n",
        "# Plotar as barras para as porcentagens de churn e não churn\n",
        "plt.bar(x, churn_percentages, width=0.4, label='Churn')\n",
        "plt.bar(x, non_churn_percentages, width=0.4, label='Non-Churn', bottom=churn_percentages)\n",
        "\n",
        "# Configurações do gráfico\n",
        "plt.xlabel('País')\n",
        "plt.ylabel('Porcentagem de Clientes')\n",
        "plt.title('Proporção de Clientes Churn e Non-Churn por País')\n",
        "plt.xticks(x, churn_percentages.index, rotation=45)\n",
        "plt.legend()\n",
        "\n",
        "# Exibir o gráfico\n",
        "plt.show()\n"
      ],
      "metadata": {
        "colab": {
          "base_uri": "https://localhost:8080/",
          "height": 513
        },
        "id": "XQOwLzXwxHaw",
        "outputId": "3bbbed91-df03-4f80-c2c8-d0b15c26fade"
      },
      "execution_count": null,
      "outputs": [
        {
          "output_type": "display_data",
          "data": {
            "text/plain": [
              "<Figure size 640x480 with 1 Axes>"
            ],
            "image/png": "[encoded data removed]"
          },
          "metadata": {}
        }
      ]
    },
    {
      "cell_type": "markdown",
      "source": [
        "**média de pontuação de crédito por país**"
      ],
      "metadata": {
        "id": "oKaqwbD2KVdX"
      }
    },
    {
      "cell_type": "code",
      "source": [
        "# Agrupar os dados por país e calcular a média do credit_score\n",
        "media_credit_score_por_pais = df.groupby('country')['credit_score'].mean()\n",
        "\n",
        "# Criar um novo DataFrame com os resultados\n",
        "relatorio = pd.DataFrame({'País': media_credit_score_por_pais.index, 'Média de Credit Score': media_credit_score_por_pais.values})\n",
        "\n",
        "# Exibir o relatório\n",
        "print(relatorio)\n"
      ],
      "metadata": {
        "colab": {
          "base_uri": "https://localhost:8080/"
        },
        "id": "ionJ4nIM28ht",
        "outputId": "a203580b-f26f-4294-c60b-0700e042b5e6"
      },
      "execution_count": null,
      "outputs": [
        {
          "output_type": "stream",
          "name": "stdout",
          "text": [
            "      País  Média de Credit Score\n",
            "0   France             649.668329\n",
            "1  Germany             651.453567\n",
            "2    Spain             651.333872\n"
          ]
        }
      ]
    },
    {
      "cell_type": "markdown",
      "source": [
        "**média de saldo por país**"
      ],
      "metadata": {
        "id": "uHqlwdHMKpH5"
      }
    },
    {
      "cell_type": "code",
      "source": [
        "# Agrupar os dados por país e calcular a média do balance\n",
        "media_credit_score_por_pais = df.groupby('country')['balance'].mean()\n",
        "\n",
        "# Criar um novo DataFrame com os resultados\n",
        "relatorio = pd.DataFrame({'País': media_credit_score_por_pais.index, 'Média de Saldo': media_credit_score_por_pais.values})\n",
        "\n",
        "# Exibir o relatório\n",
        "print(relatorio)"
      ],
      "metadata": {
        "colab": {
          "base_uri": "https://localhost:8080/"
        },
        "id": "vSphaAOj3F3r",
        "outputId": "88b5c1d4-fb72-4611-b487-58a344fdbcd6"
      },
      "execution_count": null,
      "outputs": [
        {
          "output_type": "stream",
          "name": "stdout",
          "text": [
            "      País  Média de Saldo\n",
            "0   France    62092.636516\n",
            "1  Germany   119730.116134\n",
            "2    Spain    61818.147763\n"
          ]
        }
      ]
    },
    {
      "cell_type": "markdown",
      "source": [
        "**média de salário estimado por país**"
      ],
      "metadata": {
        "id": "JfalPgd9KtUD"
      }
    },
    {
      "cell_type": "code",
      "source": [
        "# Agrupar os dados por país e calcular a média do estimated_salary\n",
        "media_credit_score_por_pais = df.groupby('country')['estimated_salary'].mean()\n",
        "\n",
        "# Criar um novo DataFrame com os resultados\n",
        "relatorio = pd.DataFrame({'País': media_credit_score_por_pais.index, 'Média de Salário estimado': media_credit_score_por_pais.values})\n",
        "\n",
        "# Exibir o relatório\n",
        "print(relatorio)\n"
      ],
      "metadata": {
        "colab": {
          "base_uri": "https://localhost:8080/"
        },
        "id": "352-iDVu34bq",
        "outputId": "9d34a53c-f123-4b26-dbce-735b9e733b85"
      },
      "execution_count": null,
      "outputs": [
        {
          "output_type": "stream",
          "name": "stdout",
          "text": [
            "      País  Média de Salário estimado\n",
            "0   France               99899.180814\n",
            "1  Germany              101113.435102\n",
            "2    Spain               99440.572281\n"
          ]
        }
      ]
    },
    {
      "cell_type": "markdown",
      "source": [
        "**Quantidade de clientes ativos por país**"
      ],
      "metadata": {
        "id": "IMcrBoaSK-DQ"
      }
    },
    {
      "cell_type": "code",
      "source": [
        "#Quantidade de clientes que utilizam ativamente sua conta por país\n",
        "contagem_churn_por_pais = df[df['active_member'] == 1].groupby('country').size()\n",
        "print(contagem_churn_por_pais)"
      ],
      "metadata": {
        "colab": {
          "base_uri": "https://localhost:8080/"
        },
        "id": "BSiteO_j4PDW",
        "outputId": "24602ea9-4757-44dd-8c0d-b201215325af"
      },
      "execution_count": null,
      "outputs": [
        {
          "output_type": "stream",
          "name": "stdout",
          "text": [
            "country\n",
            "France     2591\n",
            "Germany    1248\n",
            "Spain      1312\n",
            "dtype: int64\n"
          ]
        }
      ]
    },
    {
      "cell_type": "markdown",
      "source": [
        "## **Age**"
      ],
      "metadata": {
        "id": "qmP-m2HuPvmU"
      }
    },
    {
      "cell_type": "code",
      "source": [
        "round(df['age'].describe(),2)"
      ],
      "metadata": {
        "id": "lLhv0NIYO5P3",
        "colab": {
          "base_uri": "https://localhost:8080/"
        },
        "outputId": "040d4213-b7ed-4815-ba26-05c70cc30d39"
      },
      "execution_count": null,
      "outputs": [
        {
          "output_type": "execute_result",
          "data": {
            "text/plain": [
              "count    10000.00\n",
              "mean        38.92\n",
              "std         10.49\n",
              "min         18.00\n",
              "25%         32.00\n",
              "50%         37.00\n",
              "75%         44.00\n",
              "max         92.00\n",
              "Name: age, dtype: float64"
            ]
          },
          "metadata": {},
          "execution_count": 25
        }
      ]
    },
    {
      "cell_type": "code",
      "source": [
        "df['age'].min()"
      ],
      "metadata": {
        "id": "GQ7i8JugN92T",
        "colab": {
          "base_uri": "https://localhost:8080/"
        },
        "outputId": "f5de4deb-3d46-44d0-ee10-937e4c6db333"
      },
      "execution_count": null,
      "outputs": [
        {
          "output_type": "execute_result",
          "data": {
            "text/plain": [
              "18"
            ]
          },
          "metadata": {},
          "execution_count": 26
        }
      ]
    },
    {
      "cell_type": "code",
      "source": [
        "df['age'].max()"
      ],
      "metadata": {
        "id": "fYIcCWLzOF03",
        "colab": {
          "base_uri": "https://localhost:8080/"
        },
        "outputId": "be8c808a-fd5f-4c29-930a-1cdb34b2c768"
      },
      "execution_count": null,
      "outputs": [
        {
          "output_type": "execute_result",
          "data": {
            "text/plain": [
              "92"
            ]
          },
          "metadata": {},
          "execution_count": 27
        }
      ]
    },
    {
      "cell_type": "code",
      "source": [
        "df['age'].mean()"
      ],
      "metadata": {
        "id": "ZSid18E5P2ro",
        "colab": {
          "base_uri": "https://localhost:8080/"
        },
        "outputId": "2e54796c-257d-495c-8689-677a080d13c7"
      },
      "execution_count": null,
      "outputs": [
        {
          "output_type": "execute_result",
          "data": {
            "text/plain": [
              "38.9218"
            ]
          },
          "metadata": {},
          "execution_count": 28
        }
      ]
    },
    {
      "cell_type": "code",
      "source": [
        "df['age'].median()"
      ],
      "metadata": {
        "id": "xFqnigrIOzPw",
        "colab": {
          "base_uri": "https://localhost:8080/"
        },
        "outputId": "7778f921-1e53-485b-fda0-5fd70c8ba8b2"
      },
      "execution_count": null,
      "outputs": [
        {
          "output_type": "execute_result",
          "data": {
            "text/plain": [
              "37.0"
            ]
          },
          "metadata": {},
          "execution_count": 29
        }
      ]
    },
    {
      "cell_type": "code",
      "source": [
        "idade_mais_frequente = df['age'].value_counts().idxmax()\n",
        "print(\"A idade mais frequente na base de dados é:\", idade_mais_frequente)"
      ],
      "metadata": {
        "id": "5A3pNS85qoJf",
        "colab": {
          "base_uri": "https://localhost:8080/"
        },
        "outputId": "911f6647-d706-44c5-9663-ebaf10e026be"
      },
      "execution_count": null,
      "outputs": [
        {
          "output_type": "stream",
          "name": "stdout",
          "text": [
            "A idade mais frequente na base de dados é: 37\n"
          ]
        }
      ]
    },
    {
      "cell_type": "code",
      "source": [
        "# Filtrar os dados do DataFrame e fazer a contagem agrupada por idade\n",
        "contagem_idades = df.groupby('age').size()\n",
        "\n",
        "idades = contagem_idades.index\n",
        "quantidades = contagem_idades.values\n",
        "\n",
        "# Plotagem do gráfico de barras\n",
        "plt.bar(idades, quantidades)\n",
        "\n",
        "# Configurações do gráfico\n",
        "plt.xlabel('Idade')\n",
        "plt.ylabel('Quantidade')\n",
        "plt.title('Quantidade de Clientes por Idade')\n",
        "plt.grid(True)\n",
        "\n",
        "# Exibição do gráfico\n",
        "plt.show()\n"
      ],
      "metadata": {
        "colab": {
          "base_uri": "https://localhost:8080/",
          "height": 472
        },
        "id": "CaDxNkZFp87g",
        "outputId": "8dd726e6-087a-491e-d6a4-757307bdcb8e"
      },
      "execution_count": null,
      "outputs": [
        {
          "output_type": "display_data",
          "data": {
            "text/plain": [
              "<Figure size 640x480 with 1 Axes>"
            ],
            "image/png": "[encoded data removed]"
          },
          "metadata": {}
        }
      ]
    },
    {
      "cell_type": "code",
      "source": [
        "contagem_idades = df[df['credit_card'] == 1].groupby('age').size()\n",
        "\n",
        "idades = contagem_idades.index\n",
        "quantidades = contagem_idades.values\n",
        "\n",
        "# Plotagem do gráfico de barras\n",
        "plt.bar(idades, quantidades)\n",
        "\n",
        "# Configurações do gráfico\n",
        "plt.xlabel('Idade')\n",
        "plt.ylabel('Quantidade')\n",
        "plt.title('Quantidade de Clientes com Cartão de Crédito por Idade')\n",
        "plt.grid(True)\n",
        "\n",
        "# Exibição do gráfico\n",
        "plt.show()\n"
      ],
      "metadata": {
        "id": "UHDVKjUpnM1y",
        "colab": {
          "base_uri": "https://localhost:8080/",
          "height": 472
        },
        "outputId": "c240660a-e452-418a-9451-f67e381348cc"
      },
      "execution_count": null,
      "outputs": [
        {
          "output_type": "display_data",
          "data": {
            "text/plain": [
              "<Figure size 640x480 with 1 Axes>"
            ],
            "image/png": "[encoded data removed]"
          },
          "metadata": {}
        }
      ]
    },
    {
      "cell_type": "markdown",
      "source": [
        "## **Credit Card**"
      ],
      "metadata": {
        "id": "LEwBfH7lZEc1"
      }
    },
    {
      "cell_type": "code",
      "source": [
        "#total de clientes que possuem cartão de crédito\n",
        "df[df['credit_card'] == 1].shape[0]"
      ],
      "metadata": {
        "id": "GQUyNctpVZH8",
        "colab": {
          "base_uri": "https://localhost:8080/"
        },
        "outputId": "0b38e3e9-cb2f-4a0b-fd99-9dbf739308d4"
      },
      "execution_count": null,
      "outputs": [
        {
          "output_type": "execute_result",
          "data": {
            "text/plain": [
              "7055"
            ]
          },
          "metadata": {},
          "execution_count": 33
        }
      ]
    },
    {
      "cell_type": "code",
      "source": [
        "#Quantidade de clientes que possuem cartão de crédito por país\n",
        "df[df['credit_card'] == 1].groupby('country').size()"
      ],
      "metadata": {
        "id": "4IGovDCATFPZ",
        "colab": {
          "base_uri": "https://localhost:8080/"
        },
        "outputId": "e5bd6bff-db24-4e8c-bce6-25c06b52e3af"
      },
      "execution_count": null,
      "outputs": [
        {
          "output_type": "execute_result",
          "data": {
            "text/plain": [
              "country\n",
              "France     3543\n",
              "Germany    1791\n",
              "Spain      1721\n",
              "dtype: int64"
            ]
          },
          "metadata": {},
          "execution_count": 34
        }
      ]
    },
    {
      "cell_type": "code",
      "source": [
        "labels = ['Possui Cartão de Crédito', 'Não Possui Cartão de Crédito']\n",
        "values = df['credit_card'].value_counts().values\n",
        "title = 'Distribuição de Clientes por Cartão de Crédito'\n",
        "\n",
        "gerarGrafico(labels, values, title)"
      ],
      "metadata": {
        "id": "PLfVkBkyi1OV",
        "colab": {
          "base_uri": "https://localhost:8080/",
          "height": 429
        },
        "outputId": "57714d01-812f-4d96-f5fb-ee70e1c63fa0"
      },
      "execution_count": null,
      "outputs": [
        {
          "output_type": "display_data",
          "data": {
            "text/plain": [
              "<Figure size 640x480 with 1 Axes>"
            ],
            "image/png": "[encoded data removed]"
          },
          "metadata": {}
        }
      ]
    },
    {
      "cell_type": "markdown",
      "source": [
        "## **Credit Score**"
      ],
      "metadata": {
        "id": "SPHZ9ELrdEpq"
      }
    },
    {
      "cell_type": "code",
      "source": [
        "round(df['credit_score'].describe(),2)"
      ],
      "metadata": {
        "colab": {
          "base_uri": "https://localhost:8080/"
        },
        "id": "uqJmPUt_PuOX",
        "outputId": "adbcbfcb-5b12-45e3-a4d0-3874665ba3c6"
      },
      "execution_count": null,
      "outputs": [
        {
          "output_type": "execute_result",
          "data": {
            "text/plain": [
              "count    10000.00\n",
              "mean       650.53\n",
              "std         96.65\n",
              "min        350.00\n",
              "25%        584.00\n",
              "50%        652.00\n",
              "75%        718.00\n",
              "max        850.00\n",
              "Name: credit_score, dtype: float64"
            ]
          },
          "metadata": {},
          "execution_count": 35
        }
      ]
    },
    {
      "cell_type": "code",
      "source": [
        "df['credit_score'].min()"
      ],
      "metadata": {
        "id": "Ie3tcHnzKEYw",
        "colab": {
          "base_uri": "https://localhost:8080/"
        },
        "outputId": "b6f71975-f51b-4a6a-97f6-9bb6f539746b"
      },
      "execution_count": null,
      "outputs": [
        {
          "output_type": "execute_result",
          "data": {
            "text/plain": [
              "350"
            ]
          },
          "metadata": {},
          "execution_count": 36
        }
      ]
    },
    {
      "cell_type": "code",
      "source": [
        "df['credit_score'].max()"
      ],
      "metadata": {
        "id": "DFFdaHxV1P2d",
        "colab": {
          "base_uri": "https://localhost:8080/"
        },
        "outputId": "7b33157c-796f-48b8-88d3-7fef8a27973b"
      },
      "execution_count": null,
      "outputs": [
        {
          "output_type": "execute_result",
          "data": {
            "text/plain": [
              "850"
            ]
          },
          "metadata": {},
          "execution_count": 37
        }
      ]
    },
    {
      "cell_type": "code",
      "source": [
        "df['credit_score'].median()"
      ],
      "metadata": {
        "id": "xY449cfQQAeo",
        "colab": {
          "base_uri": "https://localhost:8080/"
        },
        "outputId": "8ae24742-bba5-42be-e764-68a0520440ca"
      },
      "execution_count": null,
      "outputs": [
        {
          "output_type": "execute_result",
          "data": {
            "text/plain": [
              "652.0"
            ]
          },
          "metadata": {},
          "execution_count": 38
        }
      ]
    },
    {
      "cell_type": "code",
      "source": [
        "descricao_saldo = round(df['credit_score'].describe(), 2)\n",
        "\n",
        "# Preparação dos dados para o gráfico\n",
        "indices = descricao_saldo.index\n",
        "valores = descricao_saldo.values\n",
        "\n",
        "# Plotagem do gráfico de barras\n",
        "plt.bar(indices, valores, width=0.8, alpha=1, align='center')\n",
        "\n",
        "# Adicionar os valores exatos acima das colunas\n",
        "for i, valor in enumerate(valores):\n",
        "    plt.text(i, valor, str(valor), ha='center', va='bottom')\n",
        "\n",
        "# Configurações do gráfico\n",
        "plt.xlabel('Estatística')\n",
        "plt.ylabel('Valor')\n",
        "plt.title('Pontuação de crédito')\n",
        "plt.grid(False)\n",
        "\n",
        "# Ajuste do espaçamento entre as barras\n",
        "plt.tight_layout()\n",
        "\n",
        "# Exibição do gráfico\n",
        "plt.show()\n"
      ],
      "metadata": {
        "colab": {
          "base_uri": "https://localhost:8080/",
          "height": 487
        },
        "id": "RBsPboULICwl",
        "outputId": "f93ac694-ec6d-4eae-a959-7b6f2d32762a"
      },
      "execution_count": null,
      "outputs": [
        {
          "output_type": "display_data",
          "data": {
            "text/plain": [
              "<Figure size 640x480 with 1 Axes>"
            ],
            "image/png": "[encoded data removed]"
          },
          "metadata": {}
        }
      ]
    },
    {
      "cell_type": "markdown",
      "source": [
        "## **Estimated Salary**"
      ],
      "metadata": {
        "id": "k4YFvA4AcNsG"
      }
    },
    {
      "cell_type": "code",
      "source": [
        "round(df['estimated_salary'].describe(),2)"
      ],
      "metadata": {
        "colab": {
          "base_uri": "https://localhost:8080/"
        },
        "id": "xMblamvBQByY",
        "outputId": "d4096c61-9a6e-40d2-9e6f-ad3833d3c3bf"
      },
      "execution_count": null,
      "outputs": [
        {
          "output_type": "execute_result",
          "data": {
            "text/plain": [
              "count     10000.00\n",
              "mean     100090.24\n",
              "std       57510.49\n",
              "min          11.58\n",
              "25%       51002.11\n",
              "50%      100193.92\n",
              "75%      149388.25\n",
              "max      199992.48\n",
              "Name: estimated_salary, dtype: float64"
            ]
          },
          "metadata": {},
          "execution_count": 39
        }
      ]
    },
    {
      "cell_type": "code",
      "source": [
        "df['estimated_salary'].max()"
      ],
      "metadata": {
        "id": "U17yfC6nKR7O",
        "colab": {
          "base_uri": "https://localhost:8080/"
        },
        "outputId": "08dcc9cc-432c-4adb-b395-2344892ea396"
      },
      "execution_count": null,
      "outputs": [
        {
          "output_type": "execute_result",
          "data": {
            "text/plain": [
              "199992.48"
            ]
          },
          "metadata": {},
          "execution_count": 40
        }
      ]
    },
    {
      "cell_type": "code",
      "source": [
        "df['estimated_salary'].mean()"
      ],
      "metadata": {
        "id": "Yi-rsdiAKgAr",
        "colab": {
          "base_uri": "https://localhost:8080/"
        },
        "outputId": "32990348-800d-4bff-d3e8-c65ca27e3c2c"
      },
      "execution_count": null,
      "outputs": [
        {
          "output_type": "execute_result",
          "data": {
            "text/plain": [
              "100090.239881"
            ]
          },
          "metadata": {},
          "execution_count": 41
        }
      ]
    },
    {
      "cell_type": "code",
      "source": [
        "descricao_saldo = round(df['estimated_salary'].describe(), 2)\n",
        "\n",
        "# Preparação dos dados para o gráfico\n",
        "indices = descricao_saldo.index\n",
        "valores = descricao_saldo.values\n",
        "\n",
        "# Ajuste da largura das barras e espaçamento entre as linhas\n",
        "largura_barra = 0.8\n",
        "\n",
        "# Plotagem do gráfico de barras\n",
        "plt.bar(indices, valores, width=largura_barra, alpha=1, align='center')\n",
        "\n",
        "# Adicionar os valores exatos acima das colunas\n",
        "for i, valor in enumerate(valores):\n",
        "    plt.text(i, valor, str(valor), ha='center', va='bottom')\n",
        "\n",
        "# Configurações do gráfico\n",
        "plt.xlabel('Estatística')\n",
        "plt.ylabel('Valor')\n",
        "plt.title('Saláro Estimado')\n",
        "plt.grid(False)\n",
        "\n",
        "# Ajuste do espaçamento entre as barras\n",
        "plt.tight_layout()\n",
        "\n",
        "# Exibição do gráfico\n",
        "plt.show()\n"
      ],
      "metadata": {
        "colab": {
          "base_uri": "https://localhost:8080/",
          "height": 487
        },
        "id": "BnDhzHVQHxFS",
        "outputId": "4d88bf3e-c5c7-4247-b53c-9fe044667bc3"
      },
      "execution_count": null,
      "outputs": [
        {
          "output_type": "display_data",
          "data": {
            "text/plain": [
              "<Figure size 640x480 with 1 Axes>"
            ],
            "image/png": "[encoded data removed]"
          },
          "metadata": {}
        }
      ]
    },
    {
      "cell_type": "markdown",
      "source": [
        "## **Balance**"
      ],
      "metadata": {
        "id": "BsBq8kRKQRb3"
      }
    },
    {
      "cell_type": "code",
      "source": [
        "round(df['balance'].describe(),2)"
      ],
      "metadata": {
        "colab": {
          "base_uri": "https://localhost:8080/"
        },
        "id": "PRhXYuhkQaeR",
        "outputId": "641ab322-6cfb-46ca-fd3a-546719640197"
      },
      "execution_count": null,
      "outputs": [
        {
          "output_type": "execute_result",
          "data": {
            "text/plain": [
              "count     10000.00\n",
              "mean      76485.89\n",
              "std       62397.41\n",
              "min           0.00\n",
              "25%           0.00\n",
              "50%       97198.54\n",
              "75%      127644.24\n",
              "max      250898.09\n",
              "Name: balance, dtype: float64"
            ]
          },
          "metadata": {},
          "execution_count": 73
        }
      ]
    },
    {
      "cell_type": "code",
      "source": [
        "# Cálculo da descrição do saldo arredondado\n",
        "descricao_saldo = round(df['balance'].describe(), 2)\n",
        "\n",
        "# Preparação dos dados para o gráfico\n",
        "indices = descricao_saldo.index\n",
        "valores = descricao_saldo.values\n",
        "\n",
        "# Ajuste da largura das barras e espaçamento entre as linhas\n",
        "largura_barra = 0.8\n",
        "\n",
        "# Plotagem do gráfico de barras\n",
        "plt.bar(indices, valores, width=largura_barra, alpha=1, align='center')\n",
        "\n",
        "# Adicionar os valores exatos acima das colunas\n",
        "for i, valor in enumerate(valores):\n",
        "    plt.text(i, valor, str(valor), ha='center', va='bottom')\n",
        "\n",
        "# Configurações do gráfico\n",
        "plt.xlabel('Estatística')\n",
        "plt.ylabel('Valor')\n",
        "plt.title('Descrição do Saldo')\n",
        "plt.grid(False)\n",
        "\n",
        "# Ajuste do espaçamento entre as barras\n",
        "plt.tight_layout()\n",
        "\n",
        "# Exibição do gráfico\n",
        "plt.show()\n"
      ],
      "metadata": {
        "colab": {
          "base_uri": "https://localhost:8080/",
          "height": 487
        },
        "id": "c-hyyV4BSICW",
        "outputId": "47d8f079-7b27-4fe0-c437-fb7dac7646c7"
      },
      "execution_count": null,
      "outputs": [
        {
          "output_type": "display_data",
          "data": {
            "text/plain": [
              "<Figure size 640x480 with 1 Axes>"
            ],
            "image/png": "[encoded data removed]"
          },
          "metadata": {}
        }
      ]
    },
    {
      "cell_type": "markdown",
      "source": [
        "## **Products Number**"
      ],
      "metadata": {
        "id": "5QsvW9KwavkE"
      }
    },
    {
      "cell_type": "code",
      "source": [
        "dados_nao_churn = df[df['churn'] == 0]\n",
        "dados_churn = df[df['churn'] == 1]\n",
        "contagem_nao_churn = dados_nao_churn['products_number'].value_counts()\n",
        "contagem_churn = dados_churn['products_number'].value_counts()\n",
        "contagem_nao_churn = contagem_nao_churn.sort_index()\n",
        "contagem_churn = contagem_churn.sort_index()\n",
        "\n",
        "todos_produtos = set(contagem_nao_churn.index) | set(contagem_churn.index)\n",
        "posicoes = np.arange(len(todos_produtos))\n",
        "\n",
        "largura = 0.35  # Largura das barras\n",
        "\n",
        "contagem_nao_churn = contagem_nao_churn.reindex(todos_produtos, fill_value=0)\n",
        "contagem_churn = contagem_churn.reindex(todos_produtos, fill_value=0)\n",
        "\n",
        "plt.bar(posicoes, contagem_nao_churn, largura, label='Não Churn')\n",
        "plt.bar(posicoes + largura, contagem_churn, largura, label='Churn')\n",
        "\n",
        "# Adicionando os valores em cima das barras\n",
        "for i, v in enumerate(contagem_nao_churn):\n",
        "    plt.text(posicoes[i], v + 5, str(v), ha='center', va='bottom')\n",
        "\n",
        "for i, v in enumerate(contagem_churn):\n",
        "    plt.text(posicoes[i] + largura, v + 5, str(v), ha='center', va='bottom')\n",
        "\n",
        "# Configurações do gráfico\n",
        "plt.xlabel('Número de Produtos')\n",
        "plt.ylabel('Quantidade')\n",
        "plt.title('Relação de Churn e Não Churn em relação ao Número de Produtos')\n",
        "plt.legend()\n",
        "\n",
        "# Ajustando os rótulos do eixo x\n",
        "plt.xticks(posicoes + largura / 2, todos_produtos)\n",
        "\n",
        "# Exibir o gráfico\n",
        "plt.show()\n"
      ],
      "metadata": {
        "colab": {
          "base_uri": "https://localhost:8080/",
          "height": 472
        },
        "id": "sD6IILZIa1tI",
        "outputId": "51fc9cac-3da5-480b-9980-d5012f53826f"
      },
      "execution_count": null,
      "outputs": [
        {
          "output_type": "display_data",
          "data": {
            "text/plain": [
              "<Figure size 640x480 with 1 Axes>"
            ],
            "image/png": "[encoded data removed]"
          },
          "metadata": {}
        }
      ]
    },
    {
      "cell_type": "code",
      "source": [
        "contagem_churn_por_produto = df[df['churn'] == 1].groupby('products_number').size()\n",
        "\n",
        "print(contagem_churn_por_produto)"
      ],
      "metadata": {
        "colab": {
          "base_uri": "https://localhost:8080/"
        },
        "id": "IjbSBqmVc_qY",
        "outputId": "4c096e0f-c014-45f6-8f50-dd7e13e68e6d"
      },
      "execution_count": null,
      "outputs": [
        {
          "output_type": "stream",
          "name": "stdout",
          "text": [
            "products_number\n",
            "1    1409\n",
            "2     348\n",
            "3     220\n",
            "4      60\n",
            "dtype: int64\n"
          ]
        }
      ]
    },
    {
      "cell_type": "markdown",
      "source": [
        "## **Gender**"
      ],
      "metadata": {
        "id": "tqxApanE0vfN"
      }
    },
    {
      "cell_type": "code",
      "source": [
        "labels = ['Homem', 'Mulher']\n",
        "values = df['gender'].value_counts().values\n",
        "title = 'Distribuição de Clientes por Sexo'\n",
        "\n",
        "gerarGrafico(labels, values, title)\n"
      ],
      "metadata": {
        "id": "Oczrjex6inWt",
        "colab": {
          "base_uri": "https://localhost:8080/",
          "height": 428
        },
        "outputId": "08c9c4f9-9387-4241-b01d-d132ffad646b"
      },
      "execution_count": null,
      "outputs": [
        {
          "output_type": "display_data",
          "data": {
            "text/plain": [
              "<Figure size 640x480 with 1 Axes>"
            ],
            "image/png": "[encoded data removed]"
          },
          "metadata": {}
        }
      ]
    },
    {
      "cell_type": "code",
      "source": [
        "dados_nao_churn = df[df['churn'] == 0]\n",
        "dados_churn = df[df['churn'] == 1]\n",
        "contagem_nao_churn = dados_nao_churn['gender'].value_counts()\n",
        "contagem_churn = dados_churn['gender'].value_counts()\n",
        "contagem_nao_churn = contagem_nao_churn.sort_index()\n",
        "contagem_churn = contagem_churn.sort_index()\n",
        "\n",
        "todos_produtos = set(contagem_nao_churn.index) | set(contagem_churn.index)\n",
        "posicoes = np.arange(len(todos_produtos))\n",
        "\n",
        "largura = 0.35  # Largura das barras\n",
        "\n",
        "contagem_nao_churn = contagem_nao_churn.reindex(todos_produtos, fill_value=0)\n",
        "contagem_churn = contagem_churn.reindex(todos_produtos, fill_value=0)\n",
        "\n",
        "plt.bar(posicoes, contagem_nao_churn, largura, label='Não Churn')\n",
        "plt.bar(posicoes + largura, contagem_churn, largura, label='Churn')\n",
        "\n",
        "# Adicionando os valores em cima das barras\n",
        "for i, v in enumerate(contagem_nao_churn):\n",
        "    plt.text(posicoes[i], v + 5, str(v), ha='center', va='bottom')\n",
        "\n",
        "for i, v in enumerate(contagem_churn):\n",
        "    plt.text(posicoes[i] + largura, v + 5, str(v), ha='center', va='bottom')\n",
        "\n",
        "# Configurações do gráfico\n",
        "plt.xlabel('Sexo')\n",
        "plt.ylabel('Quantidade')\n",
        "plt.title('Relação de Churn e Não Churn em relação ao Sexo do cliente')\n",
        "plt.legend()\n",
        "\n",
        "# Ajustando os rótulos do eixo x\n",
        "plt.xticks(posicoes + largura / 2, todos_produtos)\n",
        "\n",
        "# Exibir o gráfico\n",
        "plt.show()\n"
      ],
      "metadata": {
        "colab": {
          "base_uri": "https://localhost:8080/",
          "height": 472
        },
        "id": "hoDxR0iZ21ZV",
        "outputId": "0e5021a6-8894-4348-eec4-18d57b26fb4e"
      },
      "execution_count": null,
      "outputs": [
        {
          "output_type": "display_data",
          "data": {
            "text/plain": [
              "<Figure size 640x480 with 1 Axes>"
            ],
            "image/png": "[encoded data removed]"
          },
          "metadata": {}
        }
      ]
    },
    {
      "cell_type": "markdown",
      "source": [
        "## **Active Member**"
      ],
      "metadata": {
        "id": "HqXac9DD1ViJ"
      }
    },
    {
      "cell_type": "code",
      "source": [
        "labels = ['Cliente Ativo', 'Cliente Inativo']\n",
        "values = df['active_member'].value_counts().values\n",
        "title = 'Distribuição de Clientes por Atividades no banco'\n",
        "\n",
        "gerarGrafico(labels, values, title)"
      ],
      "metadata": {
        "id": "p8-1DurykpNa",
        "colab": {
          "base_uri": "https://localhost:8080/",
          "height": 428
        },
        "outputId": "15d6a7c5-30a5-47d3-95fe-9b0ee787d578"
      },
      "execution_count": null,
      "outputs": [
        {
          "output_type": "display_data",
          "data": {
            "text/plain": [
              "<Figure size 640x480 with 1 Axes>"
            ],
            "image/png": "[encoded data removed]"
          },
          "metadata": {}
        }
      ]
    },
    {
      "cell_type": "markdown",
      "source": [
        "## **Tenure**"
      ],
      "metadata": {
        "id": "gqY8Fx5gBs-O"
      }
    },
    {
      "cell_type": "code",
      "source": [
        "round(df['tenure'].describe(),2)"
      ],
      "metadata": {
        "colab": {
          "base_uri": "https://localhost:8080/"
        },
        "id": "N59iSo9BCy3f",
        "outputId": "3b008f06-023e-466e-b8b5-a3d586102e26"
      },
      "execution_count": null,
      "outputs": [
        {
          "output_type": "execute_result",
          "data": {
            "text/plain": [
              "count    10000.00\n",
              "mean         5.01\n",
              "std          2.89\n",
              "min          0.00\n",
              "25%          3.00\n",
              "50%          5.00\n",
              "75%          7.00\n",
              "max         10.00\n",
              "Name: tenure, dtype: float64"
            ]
          },
          "metadata": {},
          "execution_count": 75
        }
      ]
    },
    {
      "cell_type": "code",
      "source": [
        "descricao_saldo = round(df['tenure'].describe(), 2)\n",
        "\n",
        "# Preparação dos dados para o gráfico\n",
        "indices = descricao_saldo.index\n",
        "valores = descricao_saldo.values\n",
        "\n",
        "# Plotagem do gráfico de barras\n",
        "plt.bar(indices, valores, width=0.8, alpha=1, align='center')\n",
        "\n",
        "# Adicionando os valores exatos acima das colunas\n",
        "for i, valor in enumerate(valores):\n",
        "    plt.text(i, valor, str(valor), ha='center', va='bottom')\n",
        "\n",
        "# Configurações do gráfico\n",
        "plt.xlabel('Estatística')\n",
        "plt.ylabel('Valor')\n",
        "plt.title('Estáticas descritivas sobre o período de tempo que o cliente mantém uma conta no banco')\n",
        "plt.grid(False)\n",
        "\n",
        "# Ajuste do espaçamento entre as barras\n",
        "plt.tight_layout()\n",
        "\n",
        "# Exibição do gráfico\n",
        "plt.show()\n"
      ],
      "metadata": {
        "colab": {
          "base_uri": "https://localhost:8080/",
          "height": 487
        },
        "id": "RcbtSf11CCWM",
        "outputId": "83f7dccf-7662-49d7-e1d3-0b1131b42c22"
      },
      "execution_count": null,
      "outputs": [
        {
          "output_type": "display_data",
          "data": {
            "text/plain": [
              "<Figure size 640x480 with 1 Axes>"
            ],
            "image/png": "[encoded data removed]"
          },
          "metadata": {}
        }
      ]
    },
    {
      "cell_type": "markdown",
      "source": [
        "## **Churn**"
      ],
      "metadata": {
        "id": "P4SjbOStz4Ap"
      }
    },
    {
      "cell_type": "code",
      "source": [
        "labels = ['Não Churn', 'Churn']\n",
        "values = df['churn'].value_counts().values\n",
        "title = 'Distribuição de Clientes por Rotatividade'\n",
        "\n",
        "gerarGrafico(labels, values, title)"
      ],
      "metadata": {
        "colab": {
          "base_uri": "https://localhost:8080/",
          "height": 428
        },
        "id": "mN3t7WPZz8qF",
        "outputId": "075012e9-5372-4a55-c995-3dbb70917925"
      },
      "execution_count": null,
      "outputs": [
        {
          "output_type": "display_data",
          "data": {
            "text/plain": [
              "<Figure size 640x480 with 1 Axes>"
            ],
            "image/png": "[encoded data removed]"
          },
          "metadata": {}
        }
      ]
    },
    {
      "cell_type": "markdown",
      "source": [
        "\n",
        "\n",
        "---\n",
        "\n"
      ],
      "metadata": {
        "id": "Ruk2tvLq72bZ"
      }
    },
    {
      "cell_type": "markdown",
      "source": [
        "# **ALGORITMOS**"
      ],
      "metadata": {
        "id": "ugE7D8i0bTMY"
      }
    },
    {
      "cell_type": "code",
      "source": [
        "# Dividir o conjunto de dados em variáveis de entrada (X) e variável de saída (y)\n",
        "X = df.drop('churn', axis=1)\n",
        "y = df['churn']\n",
        "\n",
        "# Substituir os valores da coluna 'gender' por valores numéricos\n",
        "X['gender'] = X['gender'].replace({'Female': 1, 'Male': 0})\n",
        "\n",
        "scaler = preprocessing.MinMaxScaler()\n",
        "X_scaled = scaler.fit_transform(X[['credit_score', 'age', 'balance', 'tenure', 'products_number', 'active_member', 'estimated_salary']])\n",
        "\n",
        "X_normalized = pd.concat([pd.DataFrame(X_scaled, columns=['credit_score', 'age', 'balance', 'tenure', 'products_number', 'active_member', 'estimated_salary']), X[['gender']]], axis=1)\n",
        "\n",
        "encoder = OneHotEncoder(sparse=False)\n",
        "country_encoded = encoder.fit_transform(df[['country']])\n",
        "country_encoded_df = pd.DataFrame(country_encoded, columns=encoder.categories_[0])\n",
        "\n",
        "X_normalized = pd.concat([X_normalized, country_encoded_df], axis=1)\n",
        "print(X_normalized.head())\n",
        "\n",
        "# Instanciar os modelos de regressão logística e árvore de decisão\n",
        "logistic_model = LogisticRegression()\n",
        "tree_model = DecisionTreeClassifier()\n",
        "nb_model = GaussianNB()\n",
        "forest_model = RandomForestClassifier()\n",
        "\n",
        "# Definir as métricas a serem avaliadas\n",
        "scoring = ['accuracy', 'precision', 'recall', 'f1']"
      ],
      "metadata": {
        "id": "HdHhca_ZFA_f",
        "colab": {
          "base_uri": "https://localhost:8080/"
        },
        "outputId": "31870f3c-84f0-4ad9-b4fc-8faaaea63f58"
      },
      "execution_count": null,
      "outputs": [
        {
          "output_type": "stream",
          "name": "stdout",
          "text": [
            "   credit_score       age   balance  tenure  products_number  active_member  \\\n",
            "0         0.538  0.324324  0.000000     0.2         0.000000            1.0   \n",
            "1         0.516  0.310811  0.334031     0.1         0.000000            1.0   \n",
            "2         0.304  0.324324  0.636357     0.8         0.666667            0.0   \n",
            "3         0.698  0.283784  0.000000     0.1         0.333333            0.0   \n",
            "4         1.000  0.337838  0.500246     0.2         0.000000            1.0   \n",
            "\n",
            "   estimated_salary  gender  France  Germany  Spain  \n",
            "0          0.506735       1     1.0      0.0    0.0  \n",
            "1          0.562709       1     0.0      0.0    1.0  \n",
            "2          0.569654       1     1.0      0.0    0.0  \n",
            "3          0.469120       1     1.0      0.0    0.0  \n",
            "4          0.395400       1     0.0      0.0    1.0  \n"
          ]
        },
        {
          "output_type": "stream",
          "name": "stderr",
          "text": [
            "/usr/local/lib/python3.10/dist-packages/sklearn/preprocessing/_encoders.py:868: FutureWarning: `sparse` was renamed to `sparse_output` in version 1.2 and will be removed in 1.4. `sparse_output` is ignored unless you leave `sparse` to its default value.\n",
            "  warnings.warn(\n"
          ]
        }
      ]
    },
    {
      "cell_type": "markdown",
      "source": [
        "## **Regressão logística**"
      ],
      "metadata": {
        "id": "SFPCmeZBD1Mc"
      }
    },
    {
      "cell_type": "code",
      "source": [
        "# Realizar a CV de 10 para a regressão logística\n",
        "logistic_scores = cross_validate(logistic_model, X_normalized, y, cv=10, scoring=scoring)\n",
        "\n",
        "# Calcular as médias das métricas para a regressão logística\n",
        "logistic_accuracy = logistic_scores['test_accuracy'].mean()\n",
        "logistic_precision = logistic_scores['test_precision'].mean()\n",
        "logistic_recall = logistic_scores['test_recall'].mean()\n",
        "logistic_f1 = logistic_scores['test_f1'].mean()\n",
        "\n",
        "# Imprimir os resultados\n",
        "print(\"Regressão Logística:\")\n",
        "print(\"Acurácia:\", logistic_accuracy)\n",
        "print(\"Precisão:\", logistic_precision)\n",
        "print(\"Sensibilidade/Recall:\", logistic_recall)\n",
        "print(\"Medida F1:\", logistic_f1)\n",
        "print()"
      ],
      "metadata": {
        "colab": {
          "base_uri": "https://localhost:8080/"
        },
        "id": "ScqXgR1XE1rx",
        "outputId": "cda1064b-40a5-41d4-e5a5-68d01df521c0"
      },
      "execution_count": null,
      "outputs": [
        {
          "output_type": "stream",
          "name": "stdout",
          "text": [
            "Regressão Logística:\n",
            "Acurácia: 0.8110000000000002\n",
            "Precisão: 0.611908996600398\n",
            "Sensibilidade/Recall: 0.20376460929199264\n",
            "Medida F1 média: 0.30406387814688307\n",
            "\n"
          ]
        }
      ]
    },
    {
      "cell_type": "markdown",
      "source": [
        "## **Árvore de decisão**"
      ],
      "metadata": {
        "id": "Cv_twh7UEAzc"
      }
    },
    {
      "cell_type": "code",
      "source": [
        "tree_scores = cross_validate(tree_model, X_normalized, y, cv=10, scoring=scoring)\n",
        "\n",
        "# Calcular as médias das métricas para a árvore de decisão\n",
        "tree_accuracy = tree_scores['test_accuracy'].mean()\n",
        "tree_precision = tree_scores['test_precision'].mean()\n",
        "tree_recall = tree_scores['test_recall'].mean()\n",
        "tree_f1 = tree_scores['test_f1'].mean()\n",
        "\n",
        "print(\"Árvore de Decisão:\")\n",
        "print(\"Acurácia:\", tree_accuracy)\n",
        "print(\"Precisão:\", tree_precision)\n",
        "print(\"Sensibilidade/Recall:\", tree_recall)\n",
        "print(\"Medida F1:\", tree_f1)\n",
        "print()\n"
      ],
      "metadata": {
        "colab": {
          "base_uri": "https://localhost:8080/"
        },
        "id": "rhFuU4TaEJwf",
        "outputId": "71aa172b-7456-4d35-c22f-cd24b03b02f7"
      },
      "execution_count": null,
      "outputs": [
        {
          "output_type": "stream",
          "name": "stdout",
          "text": [
            "Árvore de Decisão:\n",
            "Acurácia: 0.7938000000000001\n",
            "Precisão: 0.4931243401625534\n",
            "Sensibilidade/Recall: 0.502694871051869\n",
            "Medida F1: 0.49734877969114316\n",
            "\n"
          ]
        }
      ]
    },
    {
      "cell_type": "markdown",
      "source": [
        "## **Naive Bayes**"
      ],
      "metadata": {
        "id": "qq-PsTxcEMCK"
      }
    },
    {
      "cell_type": "code",
      "source": [
        "nb_scores = cross_validate(nb_model, X_normalized, y, cv=10, scoring=scoring)\n",
        "\n",
        "# Calcular as médias das métricas para o Naive Bayes\n",
        "nb_accuracy = nb_scores['test_accuracy'].mean()\n",
        "nb_precision = nb_scores['test_precision'].mean()\n",
        "nb_recall = nb_scores['test_recall'].mean()\n",
        "nb_f1 = nb_scores['test_f1'].mean()\n",
        "\n",
        "print(\"Naive Bayes:\")\n",
        "print(\"Acurácia:\", nb_accuracy)\n",
        "print(\"Precisão:\", nb_precision)\n",
        "print(\"Sensibilidade/Recall:\", nb_recall)\n",
        "print(\"Medida F1:\", nb_f1)\n",
        "print()"
      ],
      "metadata": {
        "colab": {
          "base_uri": "https://localhost:8080/"
        },
        "id": "eRlW8yyGEQ0r",
        "outputId": "cb20dddd-7658-44b7-ae77-99170556e566"
      },
      "execution_count": null,
      "outputs": [
        {
          "output_type": "stream",
          "name": "stdout",
          "text": [
            "Naive Bayes:\n",
            "Acurácia: 0.8187999999999999\n",
            "Precisão: 0.5894219763589692\n",
            "Sensibilidade/Recall: 0.3711436298657394\n",
            "Medida F1: 0.45458558614065475\n",
            "\n"
          ]
        }
      ]
    },
    {
      "cell_type": "markdown",
      "source": [
        "## **Random Forest**"
      ],
      "metadata": {
        "id": "GDvx-J5zETUw"
      }
    },
    {
      "cell_type": "code",
      "source": [
        "forest_scores = cross_validate(forest_model, X_normalized, y, cv=10, scoring=scoring)\n",
        "\n",
        "forest_accuracy = forest_scores['test_accuracy'].mean()\n",
        "forest_precision = forest_scores['test_precision'].mean()\n",
        "forest_recall = forest_scores['test_recall'].mean()\n",
        "forest_f1 = forest_scores['test_f1'].mean()\n",
        "\n",
        "print(\"Random Forest:\")\n",
        "print(\"Acurácia:\", forest_accuracy)\n",
        "print(\"Precisão:\", forest_precision)\n",
        "print(\"Sensibilidade/Recall:\", forest_recall)\n",
        "print(\"Medida F1:\", forest_f1)"
      ],
      "metadata": {
        "colab": {
          "base_uri": "https://localhost:8080/"
        },
        "id": "JMyrFIFrEYm3",
        "outputId": "a5f0ab6e-45ae-41ae-b189-ba9bd0dfeabf"
      },
      "execution_count": null,
      "outputs": [
        {
          "output_type": "stream",
          "name": "stdout",
          "text": [
            "Random Forest:\n",
            "Acurácia: 0.8622\n",
            "Precisão: 0.7619791311266025\n",
            "Sensibilidade/Recall: 0.4717738819665798\n",
            "Medida F1: 0.5818567061000353\n"
          ]
        }
      ]
    },
    {
      "cell_type": "markdown",
      "source": [
        "### **Oráculo**"
      ],
      "metadata": {
        "id": "oloPAraJGG-T"
      }
    },
    {
      "cell_type": "code",
      "source": [
        "forest_model.fit(X_normalized, y)\n",
        "\n",
        "# Exemplo a ser classificado\n",
        "example = pd.DataFrame({\n",
        "    'gender': ['Female'],\n",
        "    'country': ['France'],\n",
        "    'credit_score': [600],\n",
        "    'age': [45],\n",
        "    'tenure': [7],\n",
        "    'balance': [10000],\n",
        "    'products_number': [3],\n",
        "    'credit_card': [1],\n",
        "    'active_member': [0],\n",
        "    'estimated_salary': [60000]\n",
        "})\n",
        "\n",
        "# Substituir os valores da coluna 'gender' por valores numéricos\n",
        "example['gender'] = example['gender'].replace({'Female': 1, 'Male': 0})\n",
        "\n",
        "# Normalizar o exemplo\n",
        "example_scaled = scaler.transform(example[['credit_score', 'age', 'balance', 'tenure', 'products_number', 'active_member', 'estimated_salary']])\n",
        "example_normalized = pd.concat([pd.DataFrame(example_scaled, columns=['credit_score', 'age', 'balance', 'tenure', 'products_number', 'active_member', 'estimated_salary']), example[['gender']]], axis=1)\n",
        "\n",
        "# Adicionar as colunas de país codificadas ao exemplo\n",
        "example_encoded = encoder.transform(example[['country']])\n",
        "example_encoded_df = pd.DataFrame(example_encoded, columns=encoder.categories_[0])\n",
        "example_normalized = pd.concat([example_normalized, example_encoded_df], axis=1)\n",
        "\n",
        "# Reordenar as colunas para que estejam na mesma ordem do conjunto de treinamento\n",
        "example_normalized = example_normalized[X_normalized.columns]\n",
        "\n",
        "# Fazer a previsão\n",
        "prediction = forest_model.predict(example_normalized)\n",
        "\n",
        "# Exibir a classificação\n",
        "print(\"Classificação:\", prediction)\n"
      ],
      "metadata": {
        "colab": {
          "base_uri": "https://localhost:8080/"
        },
        "id": "Llsb5pAR60mQ",
        "outputId": "b3e68b71-f4c1-4a6b-9910-64f81d2b6285"
      },
      "execution_count": null,
      "outputs": [
        {
          "output_type": "stream",
          "name": "stdout",
          "text": [
            "Classificação: [1]\n"
          ]
        }
      ]
    },
    {
      "cell_type": "markdown",
      "source": [
        "## **Light Gradient Boosting Machine**"
      ],
      "metadata": {
        "id": "Ttp6OdI1YZhb"
      }
    },
    {
      "cell_type": "markdown",
      "source": [
        "é baseado em árvores de decisão e utiliza o método de boosting para melhorar o desempenho de modelos de classificação e regressão."
      ],
      "metadata": {
        "id": "cAL1C7xF_l6e"
      }
    },
    {
      "cell_type": "markdown",
      "source": [
        "**Parâmetros:**\n",
        "* **objective**: Especifica a função objetivo a ser otimizada durante o treinamento\n",
        "do modelo. O valor 'binary' indica que o modelo está sendo treinado para um problema de classificação binária.\n",
        "* **metric**: Define a métrica a ser usada para avaliar o desempenho do modelo durante o treinamento. No código, 'binary_logloss' é usado, que calcula a perda logarítmica binária.\n",
        "* **boosting_type**: Especifica o tipo de boosting a ser usado. O valor 'gbdt' indica Gradient Boosting Decision Tree, que é o tipo padrão no LightGBM.\n",
        "* **num_leaves**: Controla o número máximo de folhas em cada árvore. Um valor maior permite que as árvores tenham mais complexidade, mas também pode levar a um maior risco de overfitting.\n",
        "* **learning_rate**: Determina a taxa de aprendizado do algoritmo, ou seja, o quanto cada árvore contribui para a atualização do modelo. Um valor menor reduz a contribuição de cada árvore, tornando o treinamento mais lento, mas potencialmente melhorando a generalização.\n",
        "* **force_row_wise**: Controla a forma como os dados são armazenados e acessados pelo modelo.\n",
        "* **verbose**: Controla o nível de detalhes das mensagens de progresso e informações exibidas durante o treinamento.\n",
        "\n",
        "Outros parâmetros apresentados pelo modelo: num_iterations, max_depth, min_data_in_leaf, feature_fraction, bagging_fraction, lambda, min_gain_to_split."
      ],
      "metadata": {
        "id": "TIm-0ljy9Ke3"
      }
    },
    {
      "cell_type": "code",
      "source": [
        "# Dividir o conjunto de dados em variáveis de entrada (X) e variável de saída (y)\n",
        "X = df.drop('churn', axis=1)\n",
        "y = df['churn']\n",
        "\n",
        "# Substituir os valores da coluna 'gender' por valores numéricos\n",
        "X['gender'] = X['gender'].replace({'Female': 1, 'Male': 0})\n",
        "\n",
        "scaler = preprocessing.MinMaxScaler()\n",
        "X_scaled = scaler.fit_transform(X[['credit_score', 'age', 'balance', 'tenure', 'products_number', 'active_member', 'estimated_salary']])\n",
        "\n",
        "X_normalized = pd.concat([pd.DataFrame(X_scaled, columns=['credit_score', 'age', 'balance', 'tenure', 'products_number', 'active_member', 'estimated_salary']), X[['gender']]], axis=1)\n",
        "\n",
        "encoder = OneHotEncoder(sparse=False)\n",
        "country_encoded = encoder.fit_transform(df[['country']])\n",
        "country_encoded_df = pd.DataFrame(country_encoded, columns=encoder.categories_[0])\n",
        "\n",
        "X_normalized = pd.concat([X_normalized, country_encoded_df], axis=1)\n",
        "\n",
        "# Definir os parâmetros do modelo LightGBM\n",
        "params = {\n",
        "    'objective': 'binary',\n",
        "    'metric': 'binary_logloss',\n",
        "    'boosting_type': 'gbdt',\n",
        "    'num_leaves': 31,\n",
        "    'learning_rate': 0.05,\n",
        "    'force_row_wise':True,\n",
        "    'verbose': 0\n",
        "}\n",
        "\n",
        "# Criar o modelo LightGBM\n",
        "lgbm_model = lgb.LGBMClassifier(**params)\n",
        "\n",
        "scoring = ['accuracy', 'precision', 'recall', 'f1']\n",
        "\n",
        "lgbm_scores = cross_validate(lgbm_model, X_normalized, y, cv=10, scoring=scoring)\n",
        "\n",
        "lgbm_accuracy = lgbm_scores['test_accuracy'].mean()\n",
        "lgbm_precision = lgbm_scores['test_precision'].mean()\n",
        "lgbm_recall = lgbm_scores['test_recall'].mean()\n",
        "lgbm_f1 = lgbm_scores['test_f1'].mean()\n",
        "\n",
        "# Imprimir os resultados médios da validação cruzada\n",
        "print(\"LightGBM:\")\n",
        "print(\"Acurácia:\", lgbm_accuracy)\n",
        "print(\"Precisão:\", lgbm_precision)\n",
        "print(\"Recall:\", lgbm_recall)\n",
        "print(\"F1:\", lgbm_f1)\n",
        "\n"
      ],
      "metadata": {
        "id": "4aYEaG54ensf",
        "colab": {
          "base_uri": "https://localhost:8080/"
        },
        "outputId": "73debc14-3e25-4680-de86-47da065b1346"
      },
      "execution_count": null,
      "outputs": [
        {
          "output_type": "stream",
          "name": "stderr",
          "text": [
            "/usr/local/lib/python3.10/dist-packages/sklearn/preprocessing/_encoders.py:868: FutureWarning: `sparse` was renamed to `sparse_output` in version 1.2 and will be removed in 1.4. `sparse_output` is ignored unless you leave `sparse` to its default value.\n",
            "  warnings.warn(\n"
          ]
        },
        {
          "output_type": "stream",
          "name": "stdout",
          "text": [
            "LightGBM:\n",
            "Acurácia: 0.8642999999999998\n",
            "Precisão: 0.7603043038379489\n",
            "Recall: 0.4889476480247271\n",
            "F1: 0.5940449903703542\n"
          ]
        }
      ]
    },
    {
      "cell_type": "markdown",
      "source": [
        "### **Oráculo**"
      ],
      "metadata": {
        "id": "PYtKqdZSDM4F"
      }
    },
    {
      "cell_type": "code",
      "source": [
        "lgbm_model.fit(X_normalized, y)\n",
        "\n",
        "# Exemplo a ser classificado\n",
        "example = pd.DataFrame({\n",
        "    'gender': ['Female'],\n",
        "    'country': ['France'],\n",
        "    'credit_score': [600],\n",
        "    'age': [45],\n",
        "    'tenure': [7],\n",
        "    'balance': [10000],\n",
        "    'products_number': [3],\n",
        "    'credit_card': [1],\n",
        "    'active_member': [0],\n",
        "    'estimated_salary': [60000]\n",
        "})\n",
        "\n",
        "# Substituir os valores da coluna 'gender' por valores numéricos\n",
        "example['gender'] = example['gender'].replace({'Female': 1, 'Male': 0})\n",
        "\n",
        "# Normalizar o exemplo\n",
        "example_scaled = scaler.transform(example[['credit_score', 'age', 'balance', 'tenure', 'products_number', 'active_member', 'estimated_salary']])\n",
        "example_normalized = pd.concat([pd.DataFrame(example_scaled, columns=['credit_score', 'age', 'balance', 'tenure', 'products_number', 'active_member', 'estimated_salary']), example[['gender']]], axis=1)\n",
        "\n",
        "# Adicionar as colunas de país codificadas ao exemplo\n",
        "example_encoded = encoder.transform(example[['country']])\n",
        "example_encoded_df = pd.DataFrame(example_encoded, columns=encoder.categories_[0])\n",
        "example_normalized = pd.concat([example_normalized, example_encoded_df], axis=1)\n",
        "\n",
        "# Reordenar as colunas para que estejam na mesma ordem do conjunto de treinamento\n",
        "example_normalized = example_normalized[X_normalized.columns]\n",
        "\n",
        "# Fazer a previsão\n",
        "prediction = lgbm_model.predict(example_normalized)\n",
        "\n",
        "# Exibir a classificação\n",
        "print(\"Classificação:\", prediction)\n"
      ],
      "metadata": {
        "colab": {
          "base_uri": "https://localhost:8080/"
        },
        "id": "GQhCC6NfDLKt",
        "outputId": "2c5e5229-85de-43a7-aadf-c347edd876c1"
      },
      "execution_count": null,
      "outputs": [
        {
          "output_type": "stream",
          "name": "stdout",
          "text": [
            "Classificação: [1]\n"
          ]
        }
      ]
    }
  ]
}